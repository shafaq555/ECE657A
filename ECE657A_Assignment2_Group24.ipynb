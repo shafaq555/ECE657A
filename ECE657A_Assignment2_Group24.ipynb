{
 "cells": [
  {
   "cell_type": "markdown",
   "metadata": {},
   "source": [
    "# ECE657A_Assignment2_Group 24 (KAI MENG, CHI LIU, ZIZHENG JIANG)"
   ]
  },
  {
   "cell_type": "markdown",
   "metadata": {},
   "source": [
    "# Part1"
   ]
  },
  {
   "cell_type": "markdown",
   "metadata": {},
   "source": [
    "### Import libraries"
   ]
  },
  {
   "cell_type": "code",
   "execution_count": 1,
   "metadata": {
    "collapsed": true
   },
   "outputs": [],
   "source": [
    "import pandas as pd\n",
    "import numpy as np\n",
    "import matplotlib.pyplot as plt\n",
    "import math\n",
    "from sklearn.model_selection import train_test_split\n",
    "from sklearn.preprocessing import StandardScaler\n",
    "from sklearn.tree import DecisionTreeClassifier\n",
    "from sklearn.ensemble import RandomForestClassifier\n",
    "from sklearn.neural_network import MLPClassifier\n",
    "from sklearn.metrics import classification_report\n",
    "from sklearn.metrics import confusion_matrix"
   ]
  },
  {
   "cell_type": "markdown",
   "metadata": {},
   "source": [
    "## Q1"
   ]
  },
  {
   "cell_type": "code",
   "execution_count": 2,
   "metadata": {
    "collapsed": true
   },
   "outputs": [],
   "source": [
    "df = pd.read_csv('bank-additional.csv', index_col = None, header = 0)"
   ]
  },
  {
   "cell_type": "code",
   "execution_count": 3,
   "metadata": {
    "scrolled": true
   },
   "outputs": [
    {
     "data": {
      "text/html": [
       "<div>\n",
       "<style scoped>\n",
       "    .dataframe tbody tr th:only-of-type {\n",
       "        vertical-align: middle;\n",
       "    }\n",
       "\n",
       "    .dataframe tbody tr th {\n",
       "        vertical-align: top;\n",
       "    }\n",
       "\n",
       "    .dataframe thead th {\n",
       "        text-align: right;\n",
       "    }\n",
       "</style>\n",
       "<table border=\"1\" class=\"dataframe\">\n",
       "  <thead>\n",
       "    <tr style=\"text-align: right;\">\n",
       "      <th></th>\n",
       "      <th>age</th>\n",
       "      <th>job</th>\n",
       "      <th>marital</th>\n",
       "      <th>education</th>\n",
       "      <th>default</th>\n",
       "      <th>housing</th>\n",
       "      <th>loan</th>\n",
       "      <th>contact</th>\n",
       "      <th>month</th>\n",
       "      <th>day_of_week</th>\n",
       "      <th>...</th>\n",
       "      <th>campaign</th>\n",
       "      <th>pdays</th>\n",
       "      <th>previous</th>\n",
       "      <th>poutcome</th>\n",
       "      <th>emp.var.rate</th>\n",
       "      <th>cons.price.idx</th>\n",
       "      <th>cons.conf.idx</th>\n",
       "      <th>euribor3m</th>\n",
       "      <th>nr.employed</th>\n",
       "      <th>y</th>\n",
       "    </tr>\n",
       "  </thead>\n",
       "  <tbody>\n",
       "    <tr>\n",
       "      <th>0</th>\n",
       "      <td>30</td>\n",
       "      <td>blue-collar</td>\n",
       "      <td>married</td>\n",
       "      <td>basic.9y</td>\n",
       "      <td>no</td>\n",
       "      <td>yes</td>\n",
       "      <td>no</td>\n",
       "      <td>cellular</td>\n",
       "      <td>may</td>\n",
       "      <td>fri</td>\n",
       "      <td>...</td>\n",
       "      <td>2</td>\n",
       "      <td>999</td>\n",
       "      <td>0</td>\n",
       "      <td>nonexistent</td>\n",
       "      <td>-1.8</td>\n",
       "      <td>92.893</td>\n",
       "      <td>-46.2</td>\n",
       "      <td>1.313</td>\n",
       "      <td>5099.1</td>\n",
       "      <td>no</td>\n",
       "    </tr>\n",
       "    <tr>\n",
       "      <th>1</th>\n",
       "      <td>39</td>\n",
       "      <td>services</td>\n",
       "      <td>single</td>\n",
       "      <td>high.school</td>\n",
       "      <td>no</td>\n",
       "      <td>no</td>\n",
       "      <td>no</td>\n",
       "      <td>telephone</td>\n",
       "      <td>may</td>\n",
       "      <td>fri</td>\n",
       "      <td>...</td>\n",
       "      <td>4</td>\n",
       "      <td>999</td>\n",
       "      <td>0</td>\n",
       "      <td>nonexistent</td>\n",
       "      <td>1.1</td>\n",
       "      <td>93.994</td>\n",
       "      <td>-36.4</td>\n",
       "      <td>4.855</td>\n",
       "      <td>5191.0</td>\n",
       "      <td>no</td>\n",
       "    </tr>\n",
       "    <tr>\n",
       "      <th>2</th>\n",
       "      <td>25</td>\n",
       "      <td>services</td>\n",
       "      <td>married</td>\n",
       "      <td>high.school</td>\n",
       "      <td>no</td>\n",
       "      <td>yes</td>\n",
       "      <td>no</td>\n",
       "      <td>telephone</td>\n",
       "      <td>jun</td>\n",
       "      <td>wed</td>\n",
       "      <td>...</td>\n",
       "      <td>1</td>\n",
       "      <td>999</td>\n",
       "      <td>0</td>\n",
       "      <td>nonexistent</td>\n",
       "      <td>1.4</td>\n",
       "      <td>94.465</td>\n",
       "      <td>-41.8</td>\n",
       "      <td>4.962</td>\n",
       "      <td>5228.1</td>\n",
       "      <td>no</td>\n",
       "    </tr>\n",
       "    <tr>\n",
       "      <th>3</th>\n",
       "      <td>38</td>\n",
       "      <td>services</td>\n",
       "      <td>married</td>\n",
       "      <td>basic.9y</td>\n",
       "      <td>no</td>\n",
       "      <td>unknown</td>\n",
       "      <td>unknown</td>\n",
       "      <td>telephone</td>\n",
       "      <td>jun</td>\n",
       "      <td>fri</td>\n",
       "      <td>...</td>\n",
       "      <td>3</td>\n",
       "      <td>999</td>\n",
       "      <td>0</td>\n",
       "      <td>nonexistent</td>\n",
       "      <td>1.4</td>\n",
       "      <td>94.465</td>\n",
       "      <td>-41.8</td>\n",
       "      <td>4.959</td>\n",
       "      <td>5228.1</td>\n",
       "      <td>no</td>\n",
       "    </tr>\n",
       "    <tr>\n",
       "      <th>4</th>\n",
       "      <td>47</td>\n",
       "      <td>admin.</td>\n",
       "      <td>married</td>\n",
       "      <td>university.degree</td>\n",
       "      <td>no</td>\n",
       "      <td>yes</td>\n",
       "      <td>no</td>\n",
       "      <td>cellular</td>\n",
       "      <td>nov</td>\n",
       "      <td>mon</td>\n",
       "      <td>...</td>\n",
       "      <td>1</td>\n",
       "      <td>999</td>\n",
       "      <td>0</td>\n",
       "      <td>nonexistent</td>\n",
       "      <td>-0.1</td>\n",
       "      <td>93.200</td>\n",
       "      <td>-42.0</td>\n",
       "      <td>4.191</td>\n",
       "      <td>5195.8</td>\n",
       "      <td>no</td>\n",
       "    </tr>\n",
       "  </tbody>\n",
       "</table>\n",
       "<p>5 rows × 21 columns</p>\n",
       "</div>"
      ],
      "text/plain": [
       "   age          job  marital          education default  housing     loan  \\\n",
       "0   30  blue-collar  married           basic.9y      no      yes       no   \n",
       "1   39     services   single        high.school      no       no       no   \n",
       "2   25     services  married        high.school      no      yes       no   \n",
       "3   38     services  married           basic.9y      no  unknown  unknown   \n",
       "4   47       admin.  married  university.degree      no      yes       no   \n",
       "\n",
       "     contact month day_of_week ...  campaign  pdays  previous     poutcome  \\\n",
       "0   cellular   may         fri ...         2    999         0  nonexistent   \n",
       "1  telephone   may         fri ...         4    999         0  nonexistent   \n",
       "2  telephone   jun         wed ...         1    999         0  nonexistent   \n",
       "3  telephone   jun         fri ...         3    999         0  nonexistent   \n",
       "4   cellular   nov         mon ...         1    999         0  nonexistent   \n",
       "\n",
       "  emp.var.rate  cons.price.idx  cons.conf.idx  euribor3m  nr.employed   y  \n",
       "0         -1.8          92.893          -46.2      1.313       5099.1  no  \n",
       "1          1.1          93.994          -36.4      4.855       5191.0  no  \n",
       "2          1.4          94.465          -41.8      4.962       5228.1  no  \n",
       "3          1.4          94.465          -41.8      4.959       5228.1  no  \n",
       "4         -0.1          93.200          -42.0      4.191       5195.8  no  \n",
       "\n",
       "[5 rows x 21 columns]"
      ]
     },
     "execution_count": 3,
     "metadata": {},
     "output_type": "execute_result"
    }
   ],
   "source": [
    "df.head()"
   ]
  },
  {
   "cell_type": "code",
   "execution_count": 4,
   "metadata": {},
   "outputs": [
    {
     "data": {
      "text/plain": [
       "(4119, 21)"
      ]
     },
     "execution_count": 4,
     "metadata": {},
     "output_type": "execute_result"
    }
   ],
   "source": [
    "np.shape(df)"
   ]
  },
  {
   "cell_type": "code",
   "execution_count": 5,
   "metadata": {
    "scrolled": true
   },
   "outputs": [
    {
     "data": {
      "text/plain": [
       "Index(['age', 'job', 'marital', 'education', 'default', 'housing', 'loan',\n",
       "       'contact', 'month', 'day_of_week', 'duration', 'campaign', 'pdays',\n",
       "       'previous', 'poutcome', 'emp.var.rate', 'cons.price.idx',\n",
       "       'cons.conf.idx', 'euribor3m', 'nr.employed', 'y'],\n",
       "      dtype='object')"
      ]
     },
     "execution_count": 5,
     "metadata": {},
     "output_type": "execute_result"
    }
   ],
   "source": [
    "df.columns"
   ]
  },
  {
   "cell_type": "markdown",
   "metadata": {},
   "source": [
    "### Dealing with 'unknown' data of categorical features "
   ]
  },
  {
   "cell_type": "markdown",
   "metadata": {},
   "source": [
    "We have 4119 observations in total. For the categorial features containing entries which are 'unknown', if it is not a very big portion, we will replace the unknown entries with the most frequent entry in the corresponding feature. By using this method, we are able to fill out the \"unknowns\" and meanwhile, reduce the bias as much as possible. "
   ]
  },
  {
   "cell_type": "code",
   "execution_count": 6,
   "metadata": {
    "collapsed": true
   },
   "outputs": [],
   "source": [
    "header = ['job', 'marital', 'education', 'default', 'housing', 'loan',\n",
    "       'contact', 'month', 'day_of_week','poutcome']"
   ]
  },
  {
   "cell_type": "code",
   "execution_count": 7,
   "metadata": {
    "scrolled": false
   },
   "outputs": [
    {
     "name": "stdout",
     "output_type": "stream",
     "text": [
      "job (array(['admin.', 'blue-collar', 'entrepreneur', 'housemaid', 'management',\n",
      "       'retired', 'self-employed', 'services', 'student', 'technician',\n",
      "       'unemployed', 'unknown'], dtype=object), array([1012,  884,  148,  110,  324,  166,  159,  393,   82,  691,  111,\n",
      "         39]))\n",
      "marital (array(['divorced', 'married', 'single', 'unknown'], dtype=object), array([ 446, 2509, 1153,   11]))\n",
      "education (array(['basic.4y', 'basic.6y', 'basic.9y', 'high.school', 'illiterate',\n",
      "       'professional.course', 'university.degree', 'unknown'], dtype=object), array([ 429,  228,  574,  921,    1,  535, 1264,  167]))\n",
      "default (array(['no', 'unknown', 'yes'], dtype=object), array([3315,  803,    1]))\n",
      "housing (array(['no', 'unknown', 'yes'], dtype=object), array([1839,  105, 2175]))\n",
      "loan (array(['no', 'unknown', 'yes'], dtype=object), array([3349,  105,  665]))\n",
      "contact (array(['cellular', 'telephone'], dtype=object), array([2652, 1467]))\n",
      "month (array(['apr', 'aug', 'dec', 'jul', 'jun', 'mar', 'may', 'nov', 'oct', 'sep'], dtype=object), array([ 215,  636,   22,  711,  530,   48, 1378,  446,   69,   64]))\n",
      "day_of_week (array(['fri', 'mon', 'thu', 'tue', 'wed'], dtype=object), array([768, 855, 860, 841, 795]))\n",
      "poutcome (array(['failure', 'nonexistent', 'success'], dtype=object), array([ 454, 3523,  142]))\n"
     ]
    }
   ],
   "source": [
    "for col in header:\n",
    "    print(col, np.unique(df[col], return_counts=True))"
   ]
  },
  {
   "cell_type": "markdown",
   "metadata": {},
   "source": [
    "From the output in above cell, we know that:\n",
    "job has 39 unknown,\n",
    "marital has 11 unknown,\n",
    "education has 167 unknown,\n",
    "default has 803 unknown,\n",
    "housing has 105 unknown,\n",
    "loan has 105 unknown.\n",
    "\n",
    "We apply the method of replacing the unknowns with the most frequent entry in the corrsponding feature."
   ]
  },
  {
   "cell_type": "code",
   "execution_count": 8,
   "metadata": {
    "collapsed": true
   },
   "outputs": [],
   "source": [
    "df[\"job\"].replace(\"unknown\", 'admin.', inplace=True)\n",
    "df[\"marital\"].replace(\"unknown\", \"married\", inplace=True)\n",
    "df[\"education\"].replace(\"unknown\", \"university.degree\", inplace=True)\n",
    "df[\"default\"].replace(\"unknown\", \"no\", inplace=True)\n",
    "df[\"housing\"].replace(\"unknown\", \"yes\", inplace=True)\n",
    "df[\"loan\"].replace(\"unknown\", \"no\", inplace=True)"
   ]
  },
  {
   "cell_type": "code",
   "execution_count": 9,
   "metadata": {},
   "outputs": [
    {
     "data": {
      "text/html": [
       "<div>\n",
       "<style scoped>\n",
       "    .dataframe tbody tr th:only-of-type {\n",
       "        vertical-align: middle;\n",
       "    }\n",
       "\n",
       "    .dataframe tbody tr th {\n",
       "        vertical-align: top;\n",
       "    }\n",
       "\n",
       "    .dataframe thead th {\n",
       "        text-align: right;\n",
       "    }\n",
       "</style>\n",
       "<table border=\"1\" class=\"dataframe\">\n",
       "  <thead>\n",
       "    <tr style=\"text-align: right;\">\n",
       "      <th></th>\n",
       "      <th>age</th>\n",
       "      <th>job</th>\n",
       "      <th>marital</th>\n",
       "      <th>education</th>\n",
       "      <th>default</th>\n",
       "      <th>housing</th>\n",
       "      <th>loan</th>\n",
       "      <th>contact</th>\n",
       "      <th>month</th>\n",
       "      <th>day_of_week</th>\n",
       "      <th>...</th>\n",
       "      <th>campaign</th>\n",
       "      <th>pdays</th>\n",
       "      <th>previous</th>\n",
       "      <th>poutcome</th>\n",
       "      <th>emp.var.rate</th>\n",
       "      <th>cons.price.idx</th>\n",
       "      <th>cons.conf.idx</th>\n",
       "      <th>euribor3m</th>\n",
       "      <th>nr.employed</th>\n",
       "      <th>y</th>\n",
       "    </tr>\n",
       "  </thead>\n",
       "  <tbody>\n",
       "    <tr>\n",
       "      <th>0</th>\n",
       "      <td>30</td>\n",
       "      <td>blue-collar</td>\n",
       "      <td>married</td>\n",
       "      <td>basic.9y</td>\n",
       "      <td>no</td>\n",
       "      <td>yes</td>\n",
       "      <td>no</td>\n",
       "      <td>cellular</td>\n",
       "      <td>may</td>\n",
       "      <td>fri</td>\n",
       "      <td>...</td>\n",
       "      <td>2</td>\n",
       "      <td>999</td>\n",
       "      <td>0</td>\n",
       "      <td>nonexistent</td>\n",
       "      <td>-1.8</td>\n",
       "      <td>92.893</td>\n",
       "      <td>-46.2</td>\n",
       "      <td>1.313</td>\n",
       "      <td>5099.1</td>\n",
       "      <td>no</td>\n",
       "    </tr>\n",
       "    <tr>\n",
       "      <th>1</th>\n",
       "      <td>39</td>\n",
       "      <td>services</td>\n",
       "      <td>single</td>\n",
       "      <td>high.school</td>\n",
       "      <td>no</td>\n",
       "      <td>no</td>\n",
       "      <td>no</td>\n",
       "      <td>telephone</td>\n",
       "      <td>may</td>\n",
       "      <td>fri</td>\n",
       "      <td>...</td>\n",
       "      <td>4</td>\n",
       "      <td>999</td>\n",
       "      <td>0</td>\n",
       "      <td>nonexistent</td>\n",
       "      <td>1.1</td>\n",
       "      <td>93.994</td>\n",
       "      <td>-36.4</td>\n",
       "      <td>4.855</td>\n",
       "      <td>5191.0</td>\n",
       "      <td>no</td>\n",
       "    </tr>\n",
       "    <tr>\n",
       "      <th>2</th>\n",
       "      <td>25</td>\n",
       "      <td>services</td>\n",
       "      <td>married</td>\n",
       "      <td>high.school</td>\n",
       "      <td>no</td>\n",
       "      <td>yes</td>\n",
       "      <td>no</td>\n",
       "      <td>telephone</td>\n",
       "      <td>jun</td>\n",
       "      <td>wed</td>\n",
       "      <td>...</td>\n",
       "      <td>1</td>\n",
       "      <td>999</td>\n",
       "      <td>0</td>\n",
       "      <td>nonexistent</td>\n",
       "      <td>1.4</td>\n",
       "      <td>94.465</td>\n",
       "      <td>-41.8</td>\n",
       "      <td>4.962</td>\n",
       "      <td>5228.1</td>\n",
       "      <td>no</td>\n",
       "    </tr>\n",
       "    <tr>\n",
       "      <th>3</th>\n",
       "      <td>38</td>\n",
       "      <td>services</td>\n",
       "      <td>married</td>\n",
       "      <td>basic.9y</td>\n",
       "      <td>no</td>\n",
       "      <td>yes</td>\n",
       "      <td>no</td>\n",
       "      <td>telephone</td>\n",
       "      <td>jun</td>\n",
       "      <td>fri</td>\n",
       "      <td>...</td>\n",
       "      <td>3</td>\n",
       "      <td>999</td>\n",
       "      <td>0</td>\n",
       "      <td>nonexistent</td>\n",
       "      <td>1.4</td>\n",
       "      <td>94.465</td>\n",
       "      <td>-41.8</td>\n",
       "      <td>4.959</td>\n",
       "      <td>5228.1</td>\n",
       "      <td>no</td>\n",
       "    </tr>\n",
       "    <tr>\n",
       "      <th>4</th>\n",
       "      <td>47</td>\n",
       "      <td>admin.</td>\n",
       "      <td>married</td>\n",
       "      <td>university.degree</td>\n",
       "      <td>no</td>\n",
       "      <td>yes</td>\n",
       "      <td>no</td>\n",
       "      <td>cellular</td>\n",
       "      <td>nov</td>\n",
       "      <td>mon</td>\n",
       "      <td>...</td>\n",
       "      <td>1</td>\n",
       "      <td>999</td>\n",
       "      <td>0</td>\n",
       "      <td>nonexistent</td>\n",
       "      <td>-0.1</td>\n",
       "      <td>93.200</td>\n",
       "      <td>-42.0</td>\n",
       "      <td>4.191</td>\n",
       "      <td>5195.8</td>\n",
       "      <td>no</td>\n",
       "    </tr>\n",
       "  </tbody>\n",
       "</table>\n",
       "<p>5 rows × 21 columns</p>\n",
       "</div>"
      ],
      "text/plain": [
       "   age          job  marital          education default housing loan  \\\n",
       "0   30  blue-collar  married           basic.9y      no     yes   no   \n",
       "1   39     services   single        high.school      no      no   no   \n",
       "2   25     services  married        high.school      no     yes   no   \n",
       "3   38     services  married           basic.9y      no     yes   no   \n",
       "4   47       admin.  married  university.degree      no     yes   no   \n",
       "\n",
       "     contact month day_of_week ...  campaign  pdays  previous     poutcome  \\\n",
       "0   cellular   may         fri ...         2    999         0  nonexistent   \n",
       "1  telephone   may         fri ...         4    999         0  nonexistent   \n",
       "2  telephone   jun         wed ...         1    999         0  nonexistent   \n",
       "3  telephone   jun         fri ...         3    999         0  nonexistent   \n",
       "4   cellular   nov         mon ...         1    999         0  nonexistent   \n",
       "\n",
       "  emp.var.rate  cons.price.idx  cons.conf.idx  euribor3m  nr.employed   y  \n",
       "0         -1.8          92.893          -46.2      1.313       5099.1  no  \n",
       "1          1.1          93.994          -36.4      4.855       5191.0  no  \n",
       "2          1.4          94.465          -41.8      4.962       5228.1  no  \n",
       "3          1.4          94.465          -41.8      4.959       5228.1  no  \n",
       "4         -0.1          93.200          -42.0      4.191       5195.8  no  \n",
       "\n",
       "[5 rows x 21 columns]"
      ]
     },
     "execution_count": 9,
     "metadata": {},
     "output_type": "execute_result"
    }
   ],
   "source": [
    "df.head()"
   ]
  },
  {
   "cell_type": "markdown",
   "metadata": {},
   "source": [
    "### Dealing with outliers"
   ]
  },
  {
   "cell_type": "markdown",
   "metadata": {},
   "source": [
    "For entries in columns 'emp.var.rate', 'cons.price.idx', 'cons.conf.idx', 'euribor3m', 'nr.employed'. If the entry is outside the 2 standard deviation range, we will treat it as outlier and replace with the feature mean."
   ]
  },
  {
   "cell_type": "code",
   "execution_count": 10,
   "metadata": {
    "scrolled": true
   },
   "outputs": [
    {
     "name": "stdout",
     "output_type": "stream",
     "text": [
      "# of outliers in emp.var.rate, cons.price.idx, cons.conf.idx, euribor3m, nr.employed [104, 124, 153, 0, 334]\n"
     ]
    }
   ],
   "source": [
    "# deal with outliers\n",
    "outliers = []\n",
    "for head in ['emp.var.rate', 'cons.price.idx', 'cons.conf.idx', 'euribor3m', 'nr.employed']:\n",
    "    count = 0\n",
    "    sum = 0\n",
    "    for row in df[head]:\n",
    "        if not math.isnan(row):\n",
    "            count = count + 1\n",
    "            sum = sum + row\n",
    "    mean = sum*1.0 / count\n",
    "    var = 0\n",
    "    for row in df[head]:\n",
    "        if not math.isnan(row):\n",
    "            var = var + ((row - mean)*(row - mean))\n",
    "    std = np.sqrt(var*1.0/count)\n",
    "    outliersNum = 0\n",
    "    for row in df[head]:\n",
    "        if not math.isnan(row):\n",
    "            if abs(row - mean) > 2*std:\n",
    "                outliersNum += 1\n",
    "                row = mean\n",
    "    outliers.append(outliersNum)\n",
    "print('# of outliers in emp.var.rate, cons.price.idx, cons.conf.idx, euribor3m, nr.employed {}'.format(outliers))"
   ]
  },
  {
   "cell_type": "code",
   "execution_count": 11,
   "metadata": {},
   "outputs": [
    {
     "data": {
      "text/html": [
       "<div>\n",
       "<style scoped>\n",
       "    .dataframe tbody tr th:only-of-type {\n",
       "        vertical-align: middle;\n",
       "    }\n",
       "\n",
       "    .dataframe tbody tr th {\n",
       "        vertical-align: top;\n",
       "    }\n",
       "\n",
       "    .dataframe thead th {\n",
       "        text-align: right;\n",
       "    }\n",
       "</style>\n",
       "<table border=\"1\" class=\"dataframe\">\n",
       "  <thead>\n",
       "    <tr style=\"text-align: right;\">\n",
       "      <th></th>\n",
       "      <th>age</th>\n",
       "      <th>job</th>\n",
       "      <th>marital</th>\n",
       "      <th>education</th>\n",
       "      <th>default</th>\n",
       "      <th>housing</th>\n",
       "      <th>loan</th>\n",
       "      <th>contact</th>\n",
       "      <th>month</th>\n",
       "      <th>day_of_week</th>\n",
       "      <th>...</th>\n",
       "      <th>campaign</th>\n",
       "      <th>pdays</th>\n",
       "      <th>previous</th>\n",
       "      <th>poutcome</th>\n",
       "      <th>emp.var.rate</th>\n",
       "      <th>cons.price.idx</th>\n",
       "      <th>cons.conf.idx</th>\n",
       "      <th>euribor3m</th>\n",
       "      <th>nr.employed</th>\n",
       "      <th>y</th>\n",
       "    </tr>\n",
       "  </thead>\n",
       "  <tbody>\n",
       "    <tr>\n",
       "      <th>0</th>\n",
       "      <td>30</td>\n",
       "      <td>blue-collar</td>\n",
       "      <td>married</td>\n",
       "      <td>basic.9y</td>\n",
       "      <td>no</td>\n",
       "      <td>yes</td>\n",
       "      <td>no</td>\n",
       "      <td>cellular</td>\n",
       "      <td>may</td>\n",
       "      <td>fri</td>\n",
       "      <td>...</td>\n",
       "      <td>2</td>\n",
       "      <td>999</td>\n",
       "      <td>0</td>\n",
       "      <td>nonexistent</td>\n",
       "      <td>-1.8</td>\n",
       "      <td>92.893</td>\n",
       "      <td>-46.2</td>\n",
       "      <td>1.313</td>\n",
       "      <td>5099.1</td>\n",
       "      <td>no</td>\n",
       "    </tr>\n",
       "    <tr>\n",
       "      <th>1</th>\n",
       "      <td>39</td>\n",
       "      <td>services</td>\n",
       "      <td>single</td>\n",
       "      <td>high.school</td>\n",
       "      <td>no</td>\n",
       "      <td>no</td>\n",
       "      <td>no</td>\n",
       "      <td>telephone</td>\n",
       "      <td>may</td>\n",
       "      <td>fri</td>\n",
       "      <td>...</td>\n",
       "      <td>4</td>\n",
       "      <td>999</td>\n",
       "      <td>0</td>\n",
       "      <td>nonexistent</td>\n",
       "      <td>1.1</td>\n",
       "      <td>93.994</td>\n",
       "      <td>-36.4</td>\n",
       "      <td>4.855</td>\n",
       "      <td>5191.0</td>\n",
       "      <td>no</td>\n",
       "    </tr>\n",
       "    <tr>\n",
       "      <th>2</th>\n",
       "      <td>25</td>\n",
       "      <td>services</td>\n",
       "      <td>married</td>\n",
       "      <td>high.school</td>\n",
       "      <td>no</td>\n",
       "      <td>yes</td>\n",
       "      <td>no</td>\n",
       "      <td>telephone</td>\n",
       "      <td>jun</td>\n",
       "      <td>wed</td>\n",
       "      <td>...</td>\n",
       "      <td>1</td>\n",
       "      <td>999</td>\n",
       "      <td>0</td>\n",
       "      <td>nonexistent</td>\n",
       "      <td>1.4</td>\n",
       "      <td>94.465</td>\n",
       "      <td>-41.8</td>\n",
       "      <td>4.962</td>\n",
       "      <td>5228.1</td>\n",
       "      <td>no</td>\n",
       "    </tr>\n",
       "    <tr>\n",
       "      <th>3</th>\n",
       "      <td>38</td>\n",
       "      <td>services</td>\n",
       "      <td>married</td>\n",
       "      <td>basic.9y</td>\n",
       "      <td>no</td>\n",
       "      <td>yes</td>\n",
       "      <td>no</td>\n",
       "      <td>telephone</td>\n",
       "      <td>jun</td>\n",
       "      <td>fri</td>\n",
       "      <td>...</td>\n",
       "      <td>3</td>\n",
       "      <td>999</td>\n",
       "      <td>0</td>\n",
       "      <td>nonexistent</td>\n",
       "      <td>1.4</td>\n",
       "      <td>94.465</td>\n",
       "      <td>-41.8</td>\n",
       "      <td>4.959</td>\n",
       "      <td>5228.1</td>\n",
       "      <td>no</td>\n",
       "    </tr>\n",
       "    <tr>\n",
       "      <th>4</th>\n",
       "      <td>47</td>\n",
       "      <td>admin.</td>\n",
       "      <td>married</td>\n",
       "      <td>university.degree</td>\n",
       "      <td>no</td>\n",
       "      <td>yes</td>\n",
       "      <td>no</td>\n",
       "      <td>cellular</td>\n",
       "      <td>nov</td>\n",
       "      <td>mon</td>\n",
       "      <td>...</td>\n",
       "      <td>1</td>\n",
       "      <td>999</td>\n",
       "      <td>0</td>\n",
       "      <td>nonexistent</td>\n",
       "      <td>-0.1</td>\n",
       "      <td>93.200</td>\n",
       "      <td>-42.0</td>\n",
       "      <td>4.191</td>\n",
       "      <td>5195.8</td>\n",
       "      <td>no</td>\n",
       "    </tr>\n",
       "  </tbody>\n",
       "</table>\n",
       "<p>5 rows × 21 columns</p>\n",
       "</div>"
      ],
      "text/plain": [
       "   age          job  marital          education default housing loan  \\\n",
       "0   30  blue-collar  married           basic.9y      no     yes   no   \n",
       "1   39     services   single        high.school      no      no   no   \n",
       "2   25     services  married        high.school      no     yes   no   \n",
       "3   38     services  married           basic.9y      no     yes   no   \n",
       "4   47       admin.  married  university.degree      no     yes   no   \n",
       "\n",
       "     contact month day_of_week ...  campaign  pdays  previous     poutcome  \\\n",
       "0   cellular   may         fri ...         2    999         0  nonexistent   \n",
       "1  telephone   may         fri ...         4    999         0  nonexistent   \n",
       "2  telephone   jun         wed ...         1    999         0  nonexistent   \n",
       "3  telephone   jun         fri ...         3    999         0  nonexistent   \n",
       "4   cellular   nov         mon ...         1    999         0  nonexistent   \n",
       "\n",
       "  emp.var.rate  cons.price.idx  cons.conf.idx  euribor3m  nr.employed   y  \n",
       "0         -1.8          92.893          -46.2      1.313       5099.1  no  \n",
       "1          1.1          93.994          -36.4      4.855       5191.0  no  \n",
       "2          1.4          94.465          -41.8      4.962       5228.1  no  \n",
       "3          1.4          94.465          -41.8      4.959       5228.1  no  \n",
       "4         -0.1          93.200          -42.0      4.191       5195.8  no  \n",
       "\n",
       "[5 rows x 21 columns]"
      ]
     },
     "execution_count": 11,
     "metadata": {},
     "output_type": "execute_result"
    }
   ],
   "source": [
    "df.head()"
   ]
  },
  {
   "cell_type": "markdown",
   "metadata": {},
   "source": [
    "### Dropping useless features"
   ]
  },
  {
   "cell_type": "markdown",
   "metadata": {},
   "source": [
    "According to the data description, the feature \"duration\" will highly affect the output when constructing preditve model, and needs to be dropped."
   ]
  },
  {
   "cell_type": "code",
   "execution_count": 12,
   "metadata": {
    "collapsed": true
   },
   "outputs": [],
   "source": [
    "df.drop('duration', axis = 1, inplace = True)"
   ]
  },
  {
   "cell_type": "code",
   "execution_count": 13,
   "metadata": {
    "scrolled": true
   },
   "outputs": [
    {
     "data": {
      "text/html": [
       "<div>\n",
       "<style scoped>\n",
       "    .dataframe tbody tr th:only-of-type {\n",
       "        vertical-align: middle;\n",
       "    }\n",
       "\n",
       "    .dataframe tbody tr th {\n",
       "        vertical-align: top;\n",
       "    }\n",
       "\n",
       "    .dataframe thead th {\n",
       "        text-align: right;\n",
       "    }\n",
       "</style>\n",
       "<table border=\"1\" class=\"dataframe\">\n",
       "  <thead>\n",
       "    <tr style=\"text-align: right;\">\n",
       "      <th></th>\n",
       "      <th>age</th>\n",
       "      <th>job</th>\n",
       "      <th>marital</th>\n",
       "      <th>education</th>\n",
       "      <th>default</th>\n",
       "      <th>housing</th>\n",
       "      <th>loan</th>\n",
       "      <th>contact</th>\n",
       "      <th>month</th>\n",
       "      <th>day_of_week</th>\n",
       "      <th>campaign</th>\n",
       "      <th>pdays</th>\n",
       "      <th>previous</th>\n",
       "      <th>poutcome</th>\n",
       "      <th>emp.var.rate</th>\n",
       "      <th>cons.price.idx</th>\n",
       "      <th>cons.conf.idx</th>\n",
       "      <th>euribor3m</th>\n",
       "      <th>nr.employed</th>\n",
       "      <th>y</th>\n",
       "    </tr>\n",
       "  </thead>\n",
       "  <tbody>\n",
       "    <tr>\n",
       "      <th>0</th>\n",
       "      <td>30</td>\n",
       "      <td>blue-collar</td>\n",
       "      <td>married</td>\n",
       "      <td>basic.9y</td>\n",
       "      <td>no</td>\n",
       "      <td>yes</td>\n",
       "      <td>no</td>\n",
       "      <td>cellular</td>\n",
       "      <td>may</td>\n",
       "      <td>fri</td>\n",
       "      <td>2</td>\n",
       "      <td>999</td>\n",
       "      <td>0</td>\n",
       "      <td>nonexistent</td>\n",
       "      <td>-1.8</td>\n",
       "      <td>92.893</td>\n",
       "      <td>-46.2</td>\n",
       "      <td>1.313</td>\n",
       "      <td>5099.1</td>\n",
       "      <td>no</td>\n",
       "    </tr>\n",
       "    <tr>\n",
       "      <th>1</th>\n",
       "      <td>39</td>\n",
       "      <td>services</td>\n",
       "      <td>single</td>\n",
       "      <td>high.school</td>\n",
       "      <td>no</td>\n",
       "      <td>no</td>\n",
       "      <td>no</td>\n",
       "      <td>telephone</td>\n",
       "      <td>may</td>\n",
       "      <td>fri</td>\n",
       "      <td>4</td>\n",
       "      <td>999</td>\n",
       "      <td>0</td>\n",
       "      <td>nonexistent</td>\n",
       "      <td>1.1</td>\n",
       "      <td>93.994</td>\n",
       "      <td>-36.4</td>\n",
       "      <td>4.855</td>\n",
       "      <td>5191.0</td>\n",
       "      <td>no</td>\n",
       "    </tr>\n",
       "    <tr>\n",
       "      <th>2</th>\n",
       "      <td>25</td>\n",
       "      <td>services</td>\n",
       "      <td>married</td>\n",
       "      <td>high.school</td>\n",
       "      <td>no</td>\n",
       "      <td>yes</td>\n",
       "      <td>no</td>\n",
       "      <td>telephone</td>\n",
       "      <td>jun</td>\n",
       "      <td>wed</td>\n",
       "      <td>1</td>\n",
       "      <td>999</td>\n",
       "      <td>0</td>\n",
       "      <td>nonexistent</td>\n",
       "      <td>1.4</td>\n",
       "      <td>94.465</td>\n",
       "      <td>-41.8</td>\n",
       "      <td>4.962</td>\n",
       "      <td>5228.1</td>\n",
       "      <td>no</td>\n",
       "    </tr>\n",
       "    <tr>\n",
       "      <th>3</th>\n",
       "      <td>38</td>\n",
       "      <td>services</td>\n",
       "      <td>married</td>\n",
       "      <td>basic.9y</td>\n",
       "      <td>no</td>\n",
       "      <td>yes</td>\n",
       "      <td>no</td>\n",
       "      <td>telephone</td>\n",
       "      <td>jun</td>\n",
       "      <td>fri</td>\n",
       "      <td>3</td>\n",
       "      <td>999</td>\n",
       "      <td>0</td>\n",
       "      <td>nonexistent</td>\n",
       "      <td>1.4</td>\n",
       "      <td>94.465</td>\n",
       "      <td>-41.8</td>\n",
       "      <td>4.959</td>\n",
       "      <td>5228.1</td>\n",
       "      <td>no</td>\n",
       "    </tr>\n",
       "    <tr>\n",
       "      <th>4</th>\n",
       "      <td>47</td>\n",
       "      <td>admin.</td>\n",
       "      <td>married</td>\n",
       "      <td>university.degree</td>\n",
       "      <td>no</td>\n",
       "      <td>yes</td>\n",
       "      <td>no</td>\n",
       "      <td>cellular</td>\n",
       "      <td>nov</td>\n",
       "      <td>mon</td>\n",
       "      <td>1</td>\n",
       "      <td>999</td>\n",
       "      <td>0</td>\n",
       "      <td>nonexistent</td>\n",
       "      <td>-0.1</td>\n",
       "      <td>93.200</td>\n",
       "      <td>-42.0</td>\n",
       "      <td>4.191</td>\n",
       "      <td>5195.8</td>\n",
       "      <td>no</td>\n",
       "    </tr>\n",
       "  </tbody>\n",
       "</table>\n",
       "</div>"
      ],
      "text/plain": [
       "   age          job  marital          education default housing loan  \\\n",
       "0   30  blue-collar  married           basic.9y      no     yes   no   \n",
       "1   39     services   single        high.school      no      no   no   \n",
       "2   25     services  married        high.school      no     yes   no   \n",
       "3   38     services  married           basic.9y      no     yes   no   \n",
       "4   47       admin.  married  university.degree      no     yes   no   \n",
       "\n",
       "     contact month day_of_week  campaign  pdays  previous     poutcome  \\\n",
       "0   cellular   may         fri         2    999         0  nonexistent   \n",
       "1  telephone   may         fri         4    999         0  nonexistent   \n",
       "2  telephone   jun         wed         1    999         0  nonexistent   \n",
       "3  telephone   jun         fri         3    999         0  nonexistent   \n",
       "4   cellular   nov         mon         1    999         0  nonexistent   \n",
       "\n",
       "   emp.var.rate  cons.price.idx  cons.conf.idx  euribor3m  nr.employed   y  \n",
       "0          -1.8          92.893          -46.2      1.313       5099.1  no  \n",
       "1           1.1          93.994          -36.4      4.855       5191.0  no  \n",
       "2           1.4          94.465          -41.8      4.962       5228.1  no  \n",
       "3           1.4          94.465          -41.8      4.959       5228.1  no  \n",
       "4          -0.1          93.200          -42.0      4.191       5195.8  no  "
      ]
     },
     "execution_count": 13,
     "metadata": {},
     "output_type": "execute_result"
    }
   ],
   "source": [
    "df.head()"
   ]
  },
  {
   "cell_type": "code",
   "execution_count": 14,
   "metadata": {},
   "outputs": [
    {
     "data": {
      "text/plain": [
       "(4119, 20)"
      ]
     },
     "execution_count": 14,
     "metadata": {},
     "output_type": "execute_result"
    }
   ],
   "source": [
    "np.shape(df)"
   ]
  },
  {
   "cell_type": "markdown",
   "metadata": {},
   "source": [
    "### Dealing with categorial features"
   ]
  },
  {
   "cell_type": "markdown",
   "metadata": {},
   "source": [
    "Mapping categorial features to numeric data. In order to use the classification models, we need to convert the categorial features to numeric data, we will use the following mapping method to do this. For binary features, mapping as 0 and 1. For categorial features containing orders like \"education\", \"month\" and \"dayofweek\", we will map it accordingly. "
   ]
  },
  {
   "cell_type": "code",
   "execution_count": 15,
   "metadata": {
    "collapsed": true
   },
   "outputs": [],
   "source": [
    "contact_map={'cellular':0, 'telephone':1}\n",
    "df[\"contact\"]=df[\"contact\"].map(contact_map)\n",
    "\n",
    "education_map={'basic.4y':2, 'basic.6y':3, 'basic.9y':4, 'high.school':5, 'illiterate':1,\n",
    " 'professional.course':6, 'university.degree':7}\n",
    "df[\"education\"] = df[\"education\"].map(education_map)\n",
    "\n",
    "loan_map={\"no\":0, \"yes\":1}\n",
    "df[\"loan\"]=df[\"loan\"].map(loan_map)\n",
    "\n",
    "default_map={\"no\":0, \"yes\":1}\n",
    "df[\"default\"]=df[\"default\"].map(default_map)\n",
    "\n",
    "month_map={'apr':4, 'aug':8, 'dec':12, 'jul':7, 'jun':6, 'mar':3, 'may':5, 'nov':11, 'oct':10, 'sep':9}\n",
    "df[\"month\"]=df[\"month\"].map(month_map)\n",
    "\n",
    "housing_map={\"no\":0, \"yes\":1}\n",
    "df[\"housing\"]=df[\"housing\"].map(default_map)\n",
    "\n",
    "dayofweek_map={'fri':5, 'mon':1, 'thu':4, 'tue':2, 'wed':3}\n",
    "df[\"day_of_week\"]=df[\"day_of_week\"].map(dayofweek_map)\n",
    "\n",
    "y_map={'no':0, 'yes':1}\n",
    "df[\"y\"]=df[\"y\"].map(y_map)\n",
    "\n",
    "#for marital feature, treat married as 1 and non-married as 0\n",
    "marital_map={'divorced':0, 'married':1, 'single':0}\n",
    "df[\"marital\"]=df[\"marital\"].map(marital_map)"
   ]
  },
  {
   "cell_type": "code",
   "execution_count": 16,
   "metadata": {
    "scrolled": true
   },
   "outputs": [
    {
     "data": {
      "text/html": [
       "<div>\n",
       "<style scoped>\n",
       "    .dataframe tbody tr th:only-of-type {\n",
       "        vertical-align: middle;\n",
       "    }\n",
       "\n",
       "    .dataframe tbody tr th {\n",
       "        vertical-align: top;\n",
       "    }\n",
       "\n",
       "    .dataframe thead th {\n",
       "        text-align: right;\n",
       "    }\n",
       "</style>\n",
       "<table border=\"1\" class=\"dataframe\">\n",
       "  <thead>\n",
       "    <tr style=\"text-align: right;\">\n",
       "      <th></th>\n",
       "      <th>age</th>\n",
       "      <th>job</th>\n",
       "      <th>marital</th>\n",
       "      <th>education</th>\n",
       "      <th>default</th>\n",
       "      <th>housing</th>\n",
       "      <th>loan</th>\n",
       "      <th>contact</th>\n",
       "      <th>month</th>\n",
       "      <th>day_of_week</th>\n",
       "      <th>campaign</th>\n",
       "      <th>pdays</th>\n",
       "      <th>previous</th>\n",
       "      <th>poutcome</th>\n",
       "      <th>emp.var.rate</th>\n",
       "      <th>cons.price.idx</th>\n",
       "      <th>cons.conf.idx</th>\n",
       "      <th>euribor3m</th>\n",
       "      <th>nr.employed</th>\n",
       "      <th>y</th>\n",
       "    </tr>\n",
       "  </thead>\n",
       "  <tbody>\n",
       "    <tr>\n",
       "      <th>0</th>\n",
       "      <td>30</td>\n",
       "      <td>blue-collar</td>\n",
       "      <td>1</td>\n",
       "      <td>4</td>\n",
       "      <td>0</td>\n",
       "      <td>1</td>\n",
       "      <td>0</td>\n",
       "      <td>0</td>\n",
       "      <td>5</td>\n",
       "      <td>5</td>\n",
       "      <td>2</td>\n",
       "      <td>999</td>\n",
       "      <td>0</td>\n",
       "      <td>nonexistent</td>\n",
       "      <td>-1.8</td>\n",
       "      <td>92.893</td>\n",
       "      <td>-46.2</td>\n",
       "      <td>1.313</td>\n",
       "      <td>5099.1</td>\n",
       "      <td>0</td>\n",
       "    </tr>\n",
       "    <tr>\n",
       "      <th>1</th>\n",
       "      <td>39</td>\n",
       "      <td>services</td>\n",
       "      <td>0</td>\n",
       "      <td>5</td>\n",
       "      <td>0</td>\n",
       "      <td>0</td>\n",
       "      <td>0</td>\n",
       "      <td>1</td>\n",
       "      <td>5</td>\n",
       "      <td>5</td>\n",
       "      <td>4</td>\n",
       "      <td>999</td>\n",
       "      <td>0</td>\n",
       "      <td>nonexistent</td>\n",
       "      <td>1.1</td>\n",
       "      <td>93.994</td>\n",
       "      <td>-36.4</td>\n",
       "      <td>4.855</td>\n",
       "      <td>5191.0</td>\n",
       "      <td>0</td>\n",
       "    </tr>\n",
       "    <tr>\n",
       "      <th>2</th>\n",
       "      <td>25</td>\n",
       "      <td>services</td>\n",
       "      <td>1</td>\n",
       "      <td>5</td>\n",
       "      <td>0</td>\n",
       "      <td>1</td>\n",
       "      <td>0</td>\n",
       "      <td>1</td>\n",
       "      <td>6</td>\n",
       "      <td>3</td>\n",
       "      <td>1</td>\n",
       "      <td>999</td>\n",
       "      <td>0</td>\n",
       "      <td>nonexistent</td>\n",
       "      <td>1.4</td>\n",
       "      <td>94.465</td>\n",
       "      <td>-41.8</td>\n",
       "      <td>4.962</td>\n",
       "      <td>5228.1</td>\n",
       "      <td>0</td>\n",
       "    </tr>\n",
       "    <tr>\n",
       "      <th>3</th>\n",
       "      <td>38</td>\n",
       "      <td>services</td>\n",
       "      <td>1</td>\n",
       "      <td>4</td>\n",
       "      <td>0</td>\n",
       "      <td>1</td>\n",
       "      <td>0</td>\n",
       "      <td>1</td>\n",
       "      <td>6</td>\n",
       "      <td>5</td>\n",
       "      <td>3</td>\n",
       "      <td>999</td>\n",
       "      <td>0</td>\n",
       "      <td>nonexistent</td>\n",
       "      <td>1.4</td>\n",
       "      <td>94.465</td>\n",
       "      <td>-41.8</td>\n",
       "      <td>4.959</td>\n",
       "      <td>5228.1</td>\n",
       "      <td>0</td>\n",
       "    </tr>\n",
       "    <tr>\n",
       "      <th>4</th>\n",
       "      <td>47</td>\n",
       "      <td>admin.</td>\n",
       "      <td>1</td>\n",
       "      <td>7</td>\n",
       "      <td>0</td>\n",
       "      <td>1</td>\n",
       "      <td>0</td>\n",
       "      <td>0</td>\n",
       "      <td>11</td>\n",
       "      <td>1</td>\n",
       "      <td>1</td>\n",
       "      <td>999</td>\n",
       "      <td>0</td>\n",
       "      <td>nonexistent</td>\n",
       "      <td>-0.1</td>\n",
       "      <td>93.200</td>\n",
       "      <td>-42.0</td>\n",
       "      <td>4.191</td>\n",
       "      <td>5195.8</td>\n",
       "      <td>0</td>\n",
       "    </tr>\n",
       "  </tbody>\n",
       "</table>\n",
       "</div>"
      ],
      "text/plain": [
       "   age          job  marital  education  default  housing  loan  contact  \\\n",
       "0   30  blue-collar        1          4        0        1     0        0   \n",
       "1   39     services        0          5        0        0     0        1   \n",
       "2   25     services        1          5        0        1     0        1   \n",
       "3   38     services        1          4        0        1     0        1   \n",
       "4   47       admin.        1          7        0        1     0        0   \n",
       "\n",
       "   month  day_of_week  campaign  pdays  previous     poutcome  emp.var.rate  \\\n",
       "0      5            5         2    999         0  nonexistent          -1.8   \n",
       "1      5            5         4    999         0  nonexistent           1.1   \n",
       "2      6            3         1    999         0  nonexistent           1.4   \n",
       "3      6            5         3    999         0  nonexistent           1.4   \n",
       "4     11            1         1    999         0  nonexistent          -0.1   \n",
       "\n",
       "   cons.price.idx  cons.conf.idx  euribor3m  nr.employed  y  \n",
       "0          92.893          -46.2      1.313       5099.1  0  \n",
       "1          93.994          -36.4      4.855       5191.0  0  \n",
       "2          94.465          -41.8      4.962       5228.1  0  \n",
       "3          94.465          -41.8      4.959       5228.1  0  \n",
       "4          93.200          -42.0      4.191       5195.8  0  "
      ]
     },
     "execution_count": 16,
     "metadata": {},
     "output_type": "execute_result"
    }
   ],
   "source": [
    "df.head()"
   ]
  },
  {
   "cell_type": "markdown",
   "metadata": {},
   "source": [
    "For the categorial features not containing any order, like \"job\", we are going to use dummy variables to convert them to binary features."
   ]
  },
  {
   "cell_type": "code",
   "execution_count": 17,
   "metadata": {
    "collapsed": true
   },
   "outputs": [],
   "source": [
    "#store the original categorial features of job and poutcome\n",
    "poutcome_col = df[\"poutcome\"]\n",
    "job_col = df[\"job\"]\n",
    "#create dummy variables\n",
    "poutcome = pd.get_dummies(df['poutcome'], prefix = 'poutcome')\n",
    "job = pd.get_dummies(df['job'], prefix = 'job')\n",
    "df = df.join([job,poutcome])\n",
    "df.drop(\"job\", axis=1, inplace=True)\n",
    "df.drop(\"poutcome\", axis=1, inplace=True)"
   ]
  },
  {
   "cell_type": "code",
   "execution_count": 18,
   "metadata": {
    "scrolled": true
   },
   "outputs": [
    {
     "data": {
      "text/html": [
       "<div>\n",
       "<style scoped>\n",
       "    .dataframe tbody tr th:only-of-type {\n",
       "        vertical-align: middle;\n",
       "    }\n",
       "\n",
       "    .dataframe tbody tr th {\n",
       "        vertical-align: top;\n",
       "    }\n",
       "\n",
       "    .dataframe thead th {\n",
       "        text-align: right;\n",
       "    }\n",
       "</style>\n",
       "<table border=\"1\" class=\"dataframe\">\n",
       "  <thead>\n",
       "    <tr style=\"text-align: right;\">\n",
       "      <th></th>\n",
       "      <th>age</th>\n",
       "      <th>marital</th>\n",
       "      <th>education</th>\n",
       "      <th>default</th>\n",
       "      <th>housing</th>\n",
       "      <th>loan</th>\n",
       "      <th>contact</th>\n",
       "      <th>month</th>\n",
       "      <th>day_of_week</th>\n",
       "      <th>campaign</th>\n",
       "      <th>...</th>\n",
       "      <th>job_management</th>\n",
       "      <th>job_retired</th>\n",
       "      <th>job_self-employed</th>\n",
       "      <th>job_services</th>\n",
       "      <th>job_student</th>\n",
       "      <th>job_technician</th>\n",
       "      <th>job_unemployed</th>\n",
       "      <th>poutcome_failure</th>\n",
       "      <th>poutcome_nonexistent</th>\n",
       "      <th>poutcome_success</th>\n",
       "    </tr>\n",
       "  </thead>\n",
       "  <tbody>\n",
       "    <tr>\n",
       "      <th>0</th>\n",
       "      <td>30</td>\n",
       "      <td>1</td>\n",
       "      <td>4</td>\n",
       "      <td>0</td>\n",
       "      <td>1</td>\n",
       "      <td>0</td>\n",
       "      <td>0</td>\n",
       "      <td>5</td>\n",
       "      <td>5</td>\n",
       "      <td>2</td>\n",
       "      <td>...</td>\n",
       "      <td>0</td>\n",
       "      <td>0</td>\n",
       "      <td>0</td>\n",
       "      <td>0</td>\n",
       "      <td>0</td>\n",
       "      <td>0</td>\n",
       "      <td>0</td>\n",
       "      <td>0</td>\n",
       "      <td>1</td>\n",
       "      <td>0</td>\n",
       "    </tr>\n",
       "    <tr>\n",
       "      <th>1</th>\n",
       "      <td>39</td>\n",
       "      <td>0</td>\n",
       "      <td>5</td>\n",
       "      <td>0</td>\n",
       "      <td>0</td>\n",
       "      <td>0</td>\n",
       "      <td>1</td>\n",
       "      <td>5</td>\n",
       "      <td>5</td>\n",
       "      <td>4</td>\n",
       "      <td>...</td>\n",
       "      <td>0</td>\n",
       "      <td>0</td>\n",
       "      <td>0</td>\n",
       "      <td>1</td>\n",
       "      <td>0</td>\n",
       "      <td>0</td>\n",
       "      <td>0</td>\n",
       "      <td>0</td>\n",
       "      <td>1</td>\n",
       "      <td>0</td>\n",
       "    </tr>\n",
       "    <tr>\n",
       "      <th>2</th>\n",
       "      <td>25</td>\n",
       "      <td>1</td>\n",
       "      <td>5</td>\n",
       "      <td>0</td>\n",
       "      <td>1</td>\n",
       "      <td>0</td>\n",
       "      <td>1</td>\n",
       "      <td>6</td>\n",
       "      <td>3</td>\n",
       "      <td>1</td>\n",
       "      <td>...</td>\n",
       "      <td>0</td>\n",
       "      <td>0</td>\n",
       "      <td>0</td>\n",
       "      <td>1</td>\n",
       "      <td>0</td>\n",
       "      <td>0</td>\n",
       "      <td>0</td>\n",
       "      <td>0</td>\n",
       "      <td>1</td>\n",
       "      <td>0</td>\n",
       "    </tr>\n",
       "    <tr>\n",
       "      <th>3</th>\n",
       "      <td>38</td>\n",
       "      <td>1</td>\n",
       "      <td>4</td>\n",
       "      <td>0</td>\n",
       "      <td>1</td>\n",
       "      <td>0</td>\n",
       "      <td>1</td>\n",
       "      <td>6</td>\n",
       "      <td>5</td>\n",
       "      <td>3</td>\n",
       "      <td>...</td>\n",
       "      <td>0</td>\n",
       "      <td>0</td>\n",
       "      <td>0</td>\n",
       "      <td>1</td>\n",
       "      <td>0</td>\n",
       "      <td>0</td>\n",
       "      <td>0</td>\n",
       "      <td>0</td>\n",
       "      <td>1</td>\n",
       "      <td>0</td>\n",
       "    </tr>\n",
       "    <tr>\n",
       "      <th>4</th>\n",
       "      <td>47</td>\n",
       "      <td>1</td>\n",
       "      <td>7</td>\n",
       "      <td>0</td>\n",
       "      <td>1</td>\n",
       "      <td>0</td>\n",
       "      <td>0</td>\n",
       "      <td>11</td>\n",
       "      <td>1</td>\n",
       "      <td>1</td>\n",
       "      <td>...</td>\n",
       "      <td>0</td>\n",
       "      <td>0</td>\n",
       "      <td>0</td>\n",
       "      <td>0</td>\n",
       "      <td>0</td>\n",
       "      <td>0</td>\n",
       "      <td>0</td>\n",
       "      <td>0</td>\n",
       "      <td>1</td>\n",
       "      <td>0</td>\n",
       "    </tr>\n",
       "  </tbody>\n",
       "</table>\n",
       "<p>5 rows × 32 columns</p>\n",
       "</div>"
      ],
      "text/plain": [
       "   age  marital  education  default  housing  loan  contact  month  \\\n",
       "0   30        1          4        0        1     0        0      5   \n",
       "1   39        0          5        0        0     0        1      5   \n",
       "2   25        1          5        0        1     0        1      6   \n",
       "3   38        1          4        0        1     0        1      6   \n",
       "4   47        1          7        0        1     0        0     11   \n",
       "\n",
       "   day_of_week  campaign        ...         job_management  job_retired  \\\n",
       "0            5         2        ...                      0            0   \n",
       "1            5         4        ...                      0            0   \n",
       "2            3         1        ...                      0            0   \n",
       "3            5         3        ...                      0            0   \n",
       "4            1         1        ...                      0            0   \n",
       "\n",
       "   job_self-employed  job_services  job_student  job_technician  \\\n",
       "0                  0             0            0               0   \n",
       "1                  0             1            0               0   \n",
       "2                  0             1            0               0   \n",
       "3                  0             1            0               0   \n",
       "4                  0             0            0               0   \n",
       "\n",
       "   job_unemployed  poutcome_failure  poutcome_nonexistent  poutcome_success  \n",
       "0               0                 0                     1                 0  \n",
       "1               0                 0                     1                 0  \n",
       "2               0                 0                     1                 0  \n",
       "3               0                 0                     1                 0  \n",
       "4               0                 0                     1                 0  \n",
       "\n",
       "[5 rows x 32 columns]"
      ]
     },
     "execution_count": 18,
     "metadata": {},
     "output_type": "execute_result"
    }
   ],
   "source": [
    "df.head()"
   ]
  },
  {
   "cell_type": "code",
   "execution_count": 19,
   "metadata": {},
   "outputs": [
    {
     "data": {
      "text/plain": [
       "(4119, 32)"
      ]
     },
     "execution_count": 19,
     "metadata": {},
     "output_type": "execute_result"
    }
   ],
   "source": [
    "np.shape(df)"
   ]
  },
  {
   "cell_type": "markdown",
   "metadata": {},
   "source": [
    "### Get X and y from the full dataset and conduct normalization"
   ]
  },
  {
   "cell_type": "code",
   "execution_count": 20,
   "metadata": {
    "collapsed": true
   },
   "outputs": [],
   "source": [
    "y = df[\"y\"]\n",
    "df.drop(\"y\", inplace=True, axis=1)\n",
    "scaler = StandardScaler(with_mean=True, with_std=True)\n",
    "df_norm=scaler.fit_transform(df)"
   ]
  },
  {
   "cell_type": "code",
   "execution_count": 21,
   "metadata": {},
   "outputs": [
    {
     "data": {
      "text/plain": [
       "(4119, 31)"
      ]
     },
     "execution_count": 21,
     "metadata": {},
     "output_type": "execute_result"
    }
   ],
   "source": [
    "np.shape(df_norm)"
   ]
  },
  {
   "cell_type": "markdown",
   "metadata": {},
   "source": [
    "## Q2"
   ]
  },
  {
   "cell_type": "markdown",
   "metadata": {},
   "source": [
    "The original set was divided randomly to 33% as test set and 67% as training set.\n",
    "The rationale given is that if you lower the number of samples in the training, the samples for the model being built will have too few samples to come up with a convincing model.\n",
    "Usually the dataset are divided into training(60%-80%) set and testing(20%-40%) set.\n",
    "The sklearn library will split arrays or matrices into random train and test subsets so that help us to reduce the overfit problem. \n",
    "The sklearn library uses the random number generator to decide how to split the dataset and uses the shuffle method as well."
   ]
  },
  {
   "cell_type": "code",
   "execution_count": 22,
   "metadata": {
    "collapsed": true
   },
   "outputs": [],
   "source": [
    "X_train, X_test, y_train, y_test = train_test_split(df_norm, y, test_size=0.33, random_state=42)"
   ]
  },
  {
   "cell_type": "markdown",
   "metadata": {},
   "source": [
    "## Q3"
   ]
  },
  {
   "cell_type": "markdown",
   "metadata": {},
   "source": [
    "### Decision Tree"
   ]
  },
  {
   "cell_type": "code",
   "execution_count": 23,
   "metadata": {},
   "outputs": [
    {
     "name": "stdout",
     "output_type": "stream",
     "text": [
      "depth:  2 train:  0.902863356289\n",
      "depth:  2 test:  0.902941176471\n"
     ]
    }
   ],
   "source": [
    "max_test_score = 0\n",
    "MaxDepth=[]\n",
    "TestScore=[]\n",
    "TrainScore=[]\n",
    "for i in range(1, 20):\n",
    "    MaxDepth.append(i)\n",
    "    clf_dt = DecisionTreeClassifier(max_depth=i)\n",
    "    clf_dt.fit(X_train, y_train)\n",
    "    train_score = clf_dt.score(X_train, y_train)\n",
    "    test_score = clf_dt.score(X_test, y_test)\n",
    "    TestScore.append(test_score)\n",
    "    TrainScore.append(train_score)\n",
    "    if test_score > max_test_score:\n",
    "        related_train_score = train_score\n",
    "        max_test_score = test_score\n",
    "        max_i = i\n",
    "        best_clf_dt = clf_dt\n",
    "print(\"depth: \", max_i, \"train: \", related_train_score)\n",
    "print(\"depth: \", max_i, \"test: \", max_test_score)"
   ]
  },
  {
   "cell_type": "code",
   "execution_count": 24,
   "metadata": {},
   "outputs": [
    {
     "data": {
      "image/png": "[encoded data removed]",
      "text/plain": [
       "<matplotlib.figure.Figure at 0x1a0c413978>"
      ]
     },
     "metadata": {},
     "output_type": "display_data"
    }
   ],
   "source": [
    "plt.plot(MaxDepth, TestScore, label = 'Test Score')\n",
    "plt.plot(MaxDepth, TrainScore, label = 'Train Score')\n",
    "plt.title('Classification Accuracy ~ Max Tree Depth (Decision Tree)')\n",
    "plt.xlabel('Max Tree Depth')\n",
    "plt.ylabel('Accuracy Score')\n",
    "plt.legend()\n",
    "plt.show()"
   ]
  },
  {
   "cell_type": "markdown",
   "metadata": {},
   "source": [
    "By choosing the various \"max_depth\" of our decision tree classifier, we found out that when max_depth = 2, it gave us the best classification accuracy in terms of the test set. And if we increase the max_depth after 2, the training set accuracy score will keep rising, however, the test set accuracy score will decrease, implying overfit on the training set. Given the analysis above, we will use max_depth = 2 as the property for our decision tree classifier from here."
   ]
  },
  {
   "cell_type": "markdown",
   "metadata": {},
   "source": [
    "Algorithm implemented: the sklearn library uses an optimized version of the CART(classification and regression tree) algorithm. The CART algorithm is structured as a sequence of questions, the answers to which determine what the next question. The result of these questions is a tree like structure where the ends are terminal nodes at which point there are no more questions. The main elements of CART are: Rules for splitting the data at a node based on the value of one variable; Stopping rules for deciding when to stop spliting and reaching the leaf nodes; The prediction for the preditor variable in each terminal node."
   ]
  },
  {
   "cell_type": "markdown",
   "metadata": {},
   "source": [
    "### Random Forest"
   ]
  },
  {
   "cell_type": "code",
   "execution_count": 25,
   "metadata": {},
   "outputs": [
    {
     "name": "stdout",
     "output_type": "stream",
     "text": [
      "tree_num:  5 depth:  4 train accuracy  0.904675607104\n",
      "tree_num:  5 depth:  4 test accuracy 0.904411764706\n"
     ]
    }
   ],
   "source": [
    "max_test_score = 0\n",
    "TreeNum=[]\n",
    "MaxDepth=[]\n",
    "TestScore=[]\n",
    "TrainScore=[]\n",
    "for j in range(1, 30):\n",
    "    for i in range(1, 30):\n",
    "        clf_rf = RandomForestClassifier(n_jobs=2, random_state=0, n_estimators=j, max_depth=i)\n",
    "        clf_rf.fit(X_train, y_train)\n",
    "        train_score = clf_rf.score(X_train, y_train)\n",
    "        test_score = clf_rf.score(X_test, y_test)\n",
    "        if test_score > max_test_score:\n",
    "            related_train_score = train_score\n",
    "            max_test_score = test_score\n",
    "            max_i = i\n",
    "            max_j = j\n",
    "            best_clf_rf = clf_rf\n",
    "        TreeNum.append(j)\n",
    "        MaxDepth.append(i)\n",
    "        TrainScore.append(train_score)\n",
    "        TestScore.append(test_score)\n",
    "print(\"tree_num: \", max_j, \"depth: \", max_i, \"train accuracy \", related_train_score)\n",
    "print(\"tree_num: \", max_j, \"depth: \", max_i, \"test accuracy\", max_test_score)"
   ]
  },
  {
   "cell_type": "markdown",
   "metadata": {},
   "source": [
    "For the random forest classfier, two main parameters are number of trees and the max depth of trees. Given the iterations performed above, when number of trees is 5 and max_depth = 4, we obtain the optimal classification accuracy in terms of the test set. And from here, we will use n_estimators = 5, max_depth = 4 in our random forest classifier."
   ]
  },
  {
   "cell_type": "markdown",
   "metadata": {},
   "source": [
    "With the sklearn random forests classifier, each tree is built from a sample drawn from the training set with replacement (i.e., a bootstrap sample), also the sample has K features. We will use CART tree training algorithm for each tree, at each split, it will find the optimal split by searching the K features and their values. And for the next tree, it will use a different sample of features and observations. That is to say, when splitting a node, the split that is chosen is no longer the best split among all features. Instead, it is the best split among a random subset of the features. As a result of this randomness, the bias of the forest usually slightly increases (with respect to the bias of a single non-random tree) but, due to averaging, its variance also decreases, usually more than compensating for the increase in bias, hence yielding an overall better model."
   ]
  },
  {
   "cell_type": "markdown",
   "metadata": {},
   "source": [
    "### Neural Networks"
   ]
  },
  {
   "cell_type": "code",
   "execution_count": 92,
   "metadata": {
    "scrolled": true
   },
   "outputs": [
    {
     "name": "stdout",
     "output_type": "stream",
     "text": [
      "MLPClassifier(activation='relu', alpha=0.0001, batch_size='auto', beta_1=0.9,\n",
      "       beta_2=0.999, early_stopping=False, epsilon=1e-08,\n",
      "       hidden_layer_sizes=(2, 3), learning_rate='constant',\n",
      "       learning_rate_init=0.001, max_iter=200, momentum=0.9,\n",
      "       nesterovs_momentum=True, power_t=0.5, random_state=0, shuffle=True,\n",
      "       solver='lbfgs', tol=0.0001, validation_fraction=0.1, verbose=False,\n",
      "       warm_start=False)\n",
      "1st hl nodes num:  2 ; 2nd hl nodes num:  3 ; train score:  0.903588256615 ; test score:  0.901470588235\n"
     ]
    }
   ],
   "source": [
    "max_test_score = 0\n",
    "for i in range(1,10):\n",
    "    for j in range(1, 10):\n",
    "        clf_mlp = MLPClassifier(solver='lbfgs', hidden_layer_sizes=(i, j), random_state=0)\n",
    "        clf_mlp.fit(X_train, y_train)\n",
    "        train_score = clf_mlp.score(X_train, y_train)\n",
    "        test_score = clf_mlp.score(X_test, y_test)\n",
    "        if test_score > max_test_score:\n",
    "            related_train_score = train_score\n",
    "            max_test_score = test_score\n",
    "            max_i = i\n",
    "            max_j = j\n",
    "            best_clf_mlp = clf_mlp\n",
    "print(best_clf_mlp)\n",
    "print(\"1st hl nodes num: \", max_i, \"; 2nd hl nodes num: \", max_j, \"; train score: \", related_train_score, \"; test score: \", max_test_score)"
   ]
  },
  {
   "cell_type": "markdown",
   "metadata": {},
   "source": [
    "For the neural networks, we used the MLPClassifier from sklearn library. To save the running time and maintain a good classification accuracy performance, we set the number of hidden layers as 2. And given the above iterations perfromed, we obtained the best classification accuracy score in terms of the test set when number of nodes in the first hidden layer is 2 and 3 in the second hidden layer. From here, we will use as our NNs model, i.e. 2 hidden layers, 2 nodes in the first hidden layer and 3 nodes in the second hidden layer."
   ]
  },
  {
   "cell_type": "markdown",
   "metadata": {},
   "source": [
    "The activation function implemented is ReLU and the solver is ‘lbfgs’ which is an optimizer in the family of quasi-Newton methods."
   ]
  },
  {
   "cell_type": "markdown",
   "metadata": {},
   "source": [
    "## Q4"
   ]
  },
  {
   "cell_type": "code",
   "execution_count": 99,
   "metadata": {
    "scrolled": true
   },
   "outputs": [
    {
     "data": {
      "text/html": [
       "<div>\n",
       "<style scoped>\n",
       "    .dataframe tbody tr th:only-of-type {\n",
       "        vertical-align: middle;\n",
       "    }\n",
       "\n",
       "    .dataframe tbody tr th {\n",
       "        vertical-align: top;\n",
       "    }\n",
       "\n",
       "    .dataframe thead th {\n",
       "        text-align: right;\n",
       "    }\n",
       "</style>\n",
       "<table border=\"1\" class=\"dataframe\">\n",
       "  <thead>\n",
       "    <tr style=\"text-align: right;\">\n",
       "      <th></th>\n",
       "      <th>age</th>\n",
       "      <th>marital</th>\n",
       "      <th>education</th>\n",
       "      <th>default</th>\n",
       "      <th>housing</th>\n",
       "      <th>loan</th>\n",
       "      <th>contact</th>\n",
       "      <th>month</th>\n",
       "      <th>day_of_week</th>\n",
       "      <th>campaign</th>\n",
       "      <th>...</th>\n",
       "      <th>job_management</th>\n",
       "      <th>job_retired</th>\n",
       "      <th>job_self-employed</th>\n",
       "      <th>job_services</th>\n",
       "      <th>job_student</th>\n",
       "      <th>job_technician</th>\n",
       "      <th>job_unemployed</th>\n",
       "      <th>poutcome_failure</th>\n",
       "      <th>poutcome_nonexistent</th>\n",
       "      <th>poutcome_success</th>\n",
       "    </tr>\n",
       "  </thead>\n",
       "  <tbody>\n",
       "    <tr>\n",
       "      <th>0</th>\n",
       "      <td>30</td>\n",
       "      <td>1</td>\n",
       "      <td>4</td>\n",
       "      <td>0</td>\n",
       "      <td>1</td>\n",
       "      <td>0</td>\n",
       "      <td>0</td>\n",
       "      <td>5</td>\n",
       "      <td>5</td>\n",
       "      <td>2</td>\n",
       "      <td>...</td>\n",
       "      <td>0</td>\n",
       "      <td>0</td>\n",
       "      <td>0</td>\n",
       "      <td>0</td>\n",
       "      <td>0</td>\n",
       "      <td>0</td>\n",
       "      <td>0</td>\n",
       "      <td>0</td>\n",
       "      <td>1</td>\n",
       "      <td>0</td>\n",
       "    </tr>\n",
       "    <tr>\n",
       "      <th>1</th>\n",
       "      <td>39</td>\n",
       "      <td>0</td>\n",
       "      <td>5</td>\n",
       "      <td>0</td>\n",
       "      <td>0</td>\n",
       "      <td>0</td>\n",
       "      <td>1</td>\n",
       "      <td>5</td>\n",
       "      <td>5</td>\n",
       "      <td>4</td>\n",
       "      <td>...</td>\n",
       "      <td>0</td>\n",
       "      <td>0</td>\n",
       "      <td>0</td>\n",
       "      <td>1</td>\n",
       "      <td>0</td>\n",
       "      <td>0</td>\n",
       "      <td>0</td>\n",
       "      <td>0</td>\n",
       "      <td>1</td>\n",
       "      <td>0</td>\n",
       "    </tr>\n",
       "    <tr>\n",
       "      <th>2</th>\n",
       "      <td>25</td>\n",
       "      <td>1</td>\n",
       "      <td>5</td>\n",
       "      <td>0</td>\n",
       "      <td>1</td>\n",
       "      <td>0</td>\n",
       "      <td>1</td>\n",
       "      <td>6</td>\n",
       "      <td>3</td>\n",
       "      <td>1</td>\n",
       "      <td>...</td>\n",
       "      <td>0</td>\n",
       "      <td>0</td>\n",
       "      <td>0</td>\n",
       "      <td>1</td>\n",
       "      <td>0</td>\n",
       "      <td>0</td>\n",
       "      <td>0</td>\n",
       "      <td>0</td>\n",
       "      <td>1</td>\n",
       "      <td>0</td>\n",
       "    </tr>\n",
       "    <tr>\n",
       "      <th>3</th>\n",
       "      <td>38</td>\n",
       "      <td>1</td>\n",
       "      <td>4</td>\n",
       "      <td>0</td>\n",
       "      <td>1</td>\n",
       "      <td>0</td>\n",
       "      <td>1</td>\n",
       "      <td>6</td>\n",
       "      <td>5</td>\n",
       "      <td>3</td>\n",
       "      <td>...</td>\n",
       "      <td>0</td>\n",
       "      <td>0</td>\n",
       "      <td>0</td>\n",
       "      <td>1</td>\n",
       "      <td>0</td>\n",
       "      <td>0</td>\n",
       "      <td>0</td>\n",
       "      <td>0</td>\n",
       "      <td>1</td>\n",
       "      <td>0</td>\n",
       "    </tr>\n",
       "    <tr>\n",
       "      <th>4</th>\n",
       "      <td>47</td>\n",
       "      <td>1</td>\n",
       "      <td>7</td>\n",
       "      <td>0</td>\n",
       "      <td>1</td>\n",
       "      <td>0</td>\n",
       "      <td>0</td>\n",
       "      <td>11</td>\n",
       "      <td>1</td>\n",
       "      <td>1</td>\n",
       "      <td>...</td>\n",
       "      <td>0</td>\n",
       "      <td>0</td>\n",
       "      <td>0</td>\n",
       "      <td>0</td>\n",
       "      <td>0</td>\n",
       "      <td>0</td>\n",
       "      <td>0</td>\n",
       "      <td>0</td>\n",
       "      <td>1</td>\n",
       "      <td>0</td>\n",
       "    </tr>\n",
       "  </tbody>\n",
       "</table>\n",
       "<p>5 rows × 31 columns</p>\n",
       "</div>"
      ],
      "text/plain": [
       "   age  marital  education  default  housing  loan  contact  month  \\\n",
       "0   30        1          4        0        1     0        0      5   \n",
       "1   39        0          5        0        0     0        1      5   \n",
       "2   25        1          5        0        1     0        1      6   \n",
       "3   38        1          4        0        1     0        1      6   \n",
       "4   47        1          7        0        1     0        0     11   \n",
       "\n",
       "   day_of_week  campaign        ...         job_management  job_retired  \\\n",
       "0            5         2        ...                      0            0   \n",
       "1            5         4        ...                      0            0   \n",
       "2            3         1        ...                      0            0   \n",
       "3            5         3        ...                      0            0   \n",
       "4            1         1        ...                      0            0   \n",
       "\n",
       "   job_self-employed  job_services  job_student  job_technician  \\\n",
       "0                  0             0            0               0   \n",
       "1                  0             1            0               0   \n",
       "2                  0             1            0               0   \n",
       "3                  0             1            0               0   \n",
       "4                  0             0            0               0   \n",
       "\n",
       "   job_unemployed  poutcome_failure  poutcome_nonexistent  poutcome_success  \n",
       "0               0                 0                     1                 0  \n",
       "1               0                 0                     1                 0  \n",
       "2               0                 0                     1                 0  \n",
       "3               0                 0                     1                 0  \n",
       "4               0                 0                     1                 0  \n",
       "\n",
       "[5 rows x 31 columns]"
      ]
     },
     "execution_count": 99,
     "metadata": {},
     "output_type": "execute_result"
    }
   ],
   "source": [
    "df.head()"
   ]
  },
  {
   "cell_type": "code",
   "execution_count": 116,
   "metadata": {
    "scrolled": false
   },
   "outputs": [
    {
     "data": {
      "text/plain": [
       "Index(['age', 'marital', 'education', 'default', 'housing', 'loan', 'contact',\n",
       "       'month', 'day_of_week', 'campaign', 'pdays', 'previous', 'emp.var.rate',\n",
       "       'cons.price.idx', 'cons.conf.idx', 'euribor3m', 'nr.employed',\n",
       "       'job_admin.', 'job_blue-collar', 'job_entrepreneur', 'job_housemaid',\n",
       "       'job_management', 'job_retired', 'job_self-employed', 'job_services',\n",
       "       'job_student', 'job_technician', 'job_unemployed', 'poutcome_failure',\n",
       "       'poutcome_nonexistent', 'poutcome_success'],\n",
       "      dtype='object')"
      ]
     },
     "execution_count": 116,
     "metadata": {},
     "output_type": "execute_result"
    }
   ],
   "source": [
    "df.columns"
   ]
  },
  {
   "cell_type": "code",
   "execution_count": 103,
   "metadata": {
    "collapsed": true
   },
   "outputs": [],
   "source": [
    "X_test_back = scaler.inverse_transform(X_test)"
   ]
  },
  {
   "cell_type": "markdown",
   "metadata": {},
   "source": [
    "### Decision tree classifier output"
   ]
  },
  {
   "cell_type": "code",
   "execution_count": 108,
   "metadata": {
    "scrolled": true
   },
   "outputs": [
    {
     "data": {
      "text/plain": [
       "DecisionTreeClassifier(class_weight=None, criterion='gini', max_depth=2,\n",
       "            max_features=None, max_leaf_nodes=None,\n",
       "            min_impurity_decrease=0.0, min_impurity_split=None,\n",
       "            min_samples_leaf=1, min_samples_split=2,\n",
       "            min_weight_fraction_leaf=0.0, presort=False, random_state=None,\n",
       "            splitter='best')"
      ]
     },
     "execution_count": 108,
     "metadata": {},
     "output_type": "execute_result"
    }
   ],
   "source": [
    "best_clf_dt.fit(X_train, y_train)"
   ]
  },
  {
   "cell_type": "code",
   "execution_count": 112,
   "metadata": {
    "scrolled": true
   },
   "outputs": [
    {
     "data": {
      "image/png": "[encoded data removed]",
      "text/plain": [
       "<matplotlib.figure.Figure at 0x1a1e8014e0>"
      ]
     },
     "metadata": {},
     "output_type": "display_data"
    }
   ],
   "source": [
    "plt.figure()\n",
    "classLable = ['no', 'yes']\n",
    "colors = ['red', 'yellow']\n",
    "y_pred = best_clf_dt.predict(X_test)\n",
    "for color, i, class_name in zip(colors, [0, 1], classLable):\n",
    "    plt.scatter(X_test_back[y_pred == i, 0], X_test_back[y_pred == i, 2], color = color, label = class_name)\n",
    "plt.legend(loc = 'best', shadow = False, scatterpoints = 1)\n",
    "plt.title('Decision Tree Classification Output')\n",
    "plt.xlabel('Age')\n",
    "plt.ylabel('Education')\n",
    "plt.show()"
   ]
  },
  {
   "cell_type": "markdown",
   "metadata": {},
   "source": [
    "Using the decision tree classifier, and plotting the test set on two dimensions which are \"Age\" and \"Education\". As we can see from the above figure, the higher the education level is, the more likely the client will subscribe the term deposit. Meanwhile, when the client's age lies in the range of (25,50), the client is more likely to subscribe the term deposit."
   ]
  },
  {
   "cell_type": "markdown",
   "metadata": {},
   "source": [
    "### Random forest classifier output"
   ]
  },
  {
   "cell_type": "code",
   "execution_count": 114,
   "metadata": {
    "scrolled": true
   },
   "outputs": [
    {
     "data": {
      "text/plain": [
       "RandomForestClassifier(bootstrap=True, class_weight=None, criterion='gini',\n",
       "            max_depth=4, max_features='auto', max_leaf_nodes=None,\n",
       "            min_impurity_decrease=0.0, min_impurity_split=None,\n",
       "            min_samples_leaf=1, min_samples_split=2,\n",
       "            min_weight_fraction_leaf=0.0, n_estimators=5, n_jobs=2,\n",
       "            oob_score=False, random_state=0, verbose=0, warm_start=False)"
      ]
     },
     "execution_count": 114,
     "metadata": {},
     "output_type": "execute_result"
    }
   ],
   "source": [
    "best_clf_rf.fit(X_train, y_train)"
   ]
  },
  {
   "cell_type": "code",
   "execution_count": 117,
   "metadata": {
    "scrolled": false
   },
   "outputs": [
    {
     "data": {
      "image/png": "[encoded data removed]",
      "text/plain": [
       "<matplotlib.figure.Figure at 0x1a15a99be0>"
      ]
     },
     "metadata": {},
     "output_type": "display_data"
    }
   ],
   "source": [
    "plt.figure()\n",
    "classLable = ['no', 'yes']\n",
    "colors = ['red', 'yellow']\n",
    "y_pred = best_clf_rf.predict(X_test)\n",
    "for color, i, class_name in zip(colors, [0, 1], classLable):\n",
    "    plt.scatter(X_test_back[y_pred == i, 9], X_test_back[y_pred == i, 11], color = color, label = class_name)\n",
    "plt.legend(loc = 'best', shadow = False, scatterpoints = 1)\n",
    "plt.title('Random Forests Classification Output')\n",
    "plt.xlabel('Compaign')\n",
    "plt.ylabel('Previous')\n",
    "plt.show()"
   ]
  },
  {
   "cell_type": "markdown",
   "metadata": {},
   "source": [
    "Using the random forests classifier, and plotting the test set on two dimensions which are \"Compaign\" and \"Previous\". \"Campaign\" means the number of contacts performed during this campaign and for this client. \"Previous\" means the number of contacts performed before this campaign and for this client. As we can see from the above figure, if the number of contacts during this compaign is lower, the client is more likely to subscribe the term deposit. And the proportion of clients subsribing the term deposit is higher if they were contacted more before this compaign. "
   ]
  },
  {
   "cell_type": "markdown",
   "metadata": {},
   "source": [
    "### MLP classifier output"
   ]
  },
  {
   "cell_type": "code",
   "execution_count": 118,
   "metadata": {},
   "outputs": [
    {
     "data": {
      "text/plain": [
       "MLPClassifier(activation='relu', alpha=0.0001, batch_size='auto', beta_1=0.9,\n",
       "       beta_2=0.999, early_stopping=False, epsilon=1e-08,\n",
       "       hidden_layer_sizes=(2, 3), learning_rate='constant',\n",
       "       learning_rate_init=0.001, max_iter=200, momentum=0.9,\n",
       "       nesterovs_momentum=True, power_t=0.5, random_state=0, shuffle=True,\n",
       "       solver='lbfgs', tol=0.0001, validation_fraction=0.1, verbose=False,\n",
       "       warm_start=False)"
      ]
     },
     "execution_count": 118,
     "metadata": {},
     "output_type": "execute_result"
    }
   ],
   "source": [
    "best_clf_mlp.fit(X_train, y_train)"
   ]
  },
  {
   "cell_type": "code",
   "execution_count": 122,
   "metadata": {},
   "outputs": [
    {
     "data": {
      "image/png": "[encoded data removed]",
      "text/plain": [
       "<matplotlib.figure.Figure at 0x1a15cda3c8>"
      ]
     },
     "metadata": {},
     "output_type": "display_data"
    }
   ],
   "source": [
    "plt.figure()\n",
    "classLable = ['no', 'yes']\n",
    "colors = ['red', 'yellow']\n",
    "y_pred = best_clf_mlp.predict(X_test)\n",
    "for color, i, class_name in zip(colors, [0, 1], classLable):\n",
    "    plt.scatter(X_test_back[y_pred == i, 12], X_test_back[y_pred == i, 15], color = color, label = class_name)\n",
    "plt.legend(loc = 'best', shadow = False, scatterpoints = 1)\n",
    "plt.title('MLP Classification Output')\n",
    "plt.xlabel('emp.var.rate')\n",
    "plt.ylabel('euribor3m')\n",
    "plt.show()"
   ]
  },
  {
   "cell_type": "markdown",
   "metadata": {},
   "source": [
    "Using the MLP classifier, and plotting the test set on two dimensions which are \"emp.var.rate\" and \"euribor3m\". \"emp.var.rate\" means the employment variation rate, and \"euribor3m\" means the euribor 3 month rate. As we can tell from the above figure, as the emp.var.rate goes up, the likelihood of subscribing will decrease. And the same pattern is existing in terms of the feature euribor3m."
   ]
  },
  {
   "cell_type": "code",
   "execution_count": 123,
   "metadata": {
    "scrolled": true
   },
   "outputs": [
    {
     "data": {
      "image/png": "[encoded data removed]",
      "text/plain": [
       "<matplotlib.figure.Figure at 0x1a15f29a20>"
      ]
     },
     "metadata": {},
     "output_type": "display_data"
    }
   ],
   "source": [
    "plt.figure()\n",
    "classLable = ['no', 'yes']\n",
    "colors = ['red', 'yellow']\n",
    "y_pred = best_clf_mlp.predict(X_test)\n",
    "for color, i, class_name in zip(colors, [0, 1], classLable):\n",
    "    plt.scatter(X_test_back[y_pred == i, 7], X_test_back[y_pred == i, 8], color = color, label = class_name)\n",
    "plt.legend(loc = 'best', shadow = False, scatterpoints = 1)\n",
    "plt.title('MLP Classification Output')\n",
    "plt.xlabel('Month')\n",
    "plt.ylabel('Day of week')\n",
    "plt.show()"
   ]
  },
  {
   "cell_type": "markdown",
   "metadata": {},
   "source": [
    "Using the MLP classifier, and plotting the test set on two dimensions which are \"month\" and \"day_of_week\". From the figure above, there is no clear characteristics that can help us distiguish the classes based on different months or various day of week."
   ]
  },
  {
   "cell_type": "markdown",
   "metadata": {},
   "source": [
    "From the above analysis, we can tell that on dimensions like \"Age\", \"Education\" and \"Compaign\", the separation between these two classes is better, however, on dimensions like \"Month\" and \"Day of week\", the separation is not that obvious. The reason is that features like \"Age\" and \"Education\" have greater effects on clients' decision making and can better discriminate between classes, however, features like \"Month\" and \"Day of week\" do not have the power to discriminate between classes or have little effects on clients' decision making."
   ]
  },
  {
   "cell_type": "markdown",
   "metadata": {},
   "source": [
    "## Q5"
   ]
  },
  {
   "cell_type": "code",
   "execution_count": 168,
   "metadata": {
    "collapsed": true
   },
   "outputs": [],
   "source": [
    "y_true = y_test\n",
    "y_dt_pred = best_clf_dt.predict(X_test)\n",
    "y_rf_pred = best_clf_rf.predict(X_test)\n",
    "y_mlp_pred = best_clf_mlp.predict(X_test)"
   ]
  },
  {
   "cell_type": "markdown",
   "metadata": {},
   "source": [
    "### Confusion matrics"
   ]
  },
  {
   "cell_type": "code",
   "execution_count": 169,
   "metadata": {},
   "outputs": [
    {
     "name": "stdout",
     "output_type": "stream",
     "text": [
      "Confusion matrix of Decision tree classifier prediction\n",
      "[[1202    8]\n",
      " [ 124   26]]\n",
      "Confusion matrix of Random forest classifier prediction\n",
      "[[1202    8]\n",
      " [ 122   28]]\n",
      "Confusion matrix of MLP classifier prediction\n",
      "[[1194   16]\n",
      " [ 118   32]]\n"
     ]
    }
   ],
   "source": [
    "print(\"Confusion matrix of Decision tree classifier prediction\")\n",
    "cnf_matrix = confusion_matrix(y_true, y_dt_pred)\n",
    "print(cnf_matrix)\n",
    "print(\"Confusion matrix of Random forest classifier prediction\")\n",
    "cnf_matrix = confusion_matrix(y_true, y_rf_pred)\n",
    "print(cnf_matrix)\n",
    "print(\"Confusion matrix of MLP classifier prediction\")\n",
    "cnf_matrix = confusion_matrix(y_true, y_mlp_pred)\n",
    "print(cnf_matrix)"
   ]
  },
  {
   "cell_type": "markdown",
   "metadata": {},
   "source": [
    "The confusion matrix of predictions under each classifier is shown above. Labels for rows are \"Actual no\" and \"Actual yes\". Labels for columns are \"Predicted no\" and \"Predicted yes\". For example, the first confusion matrix of decision tree classifier, 1202 is the counts for TN(true negative), 8 is for FP(false positive), 124 is for FN(false positive), and 26 is for TP(true positive)."
   ]
  },
  {
   "cell_type": "markdown",
   "metadata": {},
   "source": [
    "### Classification reports"
   ]
  },
  {
   "cell_type": "code",
   "execution_count": 170,
   "metadata": {
    "scrolled": true
   },
   "outputs": [
    {
     "name": "stdout",
     "output_type": "stream",
     "text": [
      "Decision tree classifier prediction evaluation\n",
      "             precision    recall  f1-score   support\n",
      "\n",
      "         no       0.91      0.99      0.95      1210\n",
      "        yes       0.76      0.17      0.28       150\n",
      "\n",
      "avg / total       0.89      0.90      0.87      1360\n",
      "\n",
      "Random forest classifier prediction evaluation\n",
      "             precision    recall  f1-score   support\n",
      "\n",
      "         no       0.91      0.99      0.95      1210\n",
      "        yes       0.78      0.19      0.30       150\n",
      "\n",
      "avg / total       0.89      0.90      0.88      1360\n",
      "\n",
      "MLP classifier prediction evaluation\n",
      "             precision    recall  f1-score   support\n",
      "\n",
      "         no       0.91      0.99      0.95      1210\n",
      "        yes       0.67      0.21      0.32       150\n",
      "\n",
      "avg / total       0.88      0.90      0.88      1360\n",
      "\n"
     ]
    }
   ],
   "source": [
    "print(\"Decision tree classifier prediction evaluation\")\n",
    "print(classification_report(y_true, y_dt_pred, target_names=['no', 'yes']))\n",
    "print(\"Random forest classifier prediction evaluation\")\n",
    "print(classification_report(y_true, y_rf_pred, target_names=['no', 'yes']))\n",
    "print(\"MLP classifier prediction evaluation\")\n",
    "print(classification_report(y_true, y_mlp_pred, target_names=['no', 'yes']))"
   ]
  },
  {
   "cell_type": "markdown",
   "metadata": {},
   "source": [
    "The classification evaluation tables are shown above. In the table, precision is TP/(TP + FP), recall is TP/(TP + FN), and the f1-score can be interpreted as a weighted harmonic mean of the precision and recall."
   ]
  },
  {
   "cell_type": "markdown",
   "metadata": {},
   "source": [
    "### Bar charts comparison"
   ]
  },
  {
   "cell_type": "code",
   "execution_count": 171,
   "metadata": {},
   "outputs": [
    {
     "data": {
      "image/png": "[encoded data removed]",
      "text/plain": [
       "<matplotlib.figure.Figure at 0x1a1f43fa90>"
      ]
     },
     "metadata": {},
     "output_type": "display_data"
    }
   ],
   "source": [
    "n_groups = 6\n",
    "clf_yes, clf_no = [0.76, 0.78, 0.67], [0.91, 0.91, 0.91]\n",
    "fig, ax = plt.subplots()\n",
    "\n",
    "index = np.arange(n_groups)\n",
    "bar_width = 0.35\n",
    "dt_yes = plt.bar(index[0] + bar_width, clf_yes[0], bar_width, color='g', label='Yes')\n",
    "dt_no = plt.bar(index[3] + bar_width, clf_no[0], bar_width, color='r', label='No')\n",
    "\n",
    "rf_yes = plt.bar(index[1] + bar_width, clf_yes[1], bar_width, color='g', label='Yes')\n",
    "rf_no = plt.bar(index[4] + bar_width, clf_no[1], bar_width, color='r', label='No')\n",
    "\n",
    "mlp_yes = plt.bar(index[2] + bar_width, clf_yes[2], bar_width, color='g', label='Yes')\n",
    "mlp_no = plt.bar(index[5] + bar_width, clf_no[2], bar_width, color='r', label='No')\n",
    "\n",
    "ax.set_ylabel('Precision')\n",
    "plt.xticks(index + bar_width, ('yes_dt', 'yes_rf', 'yes_mlp', 'no_dt', 'no_rf', 'no_mlp'))\n",
    "plt.show()"
   ]
  },
  {
   "cell_type": "code",
   "execution_count": 172,
   "metadata": {},
   "outputs": [
    {
     "data": {
      "image/png": "[encoded data removed]",
      "text/plain": [
       "<matplotlib.figure.Figure at 0x1a1f4f9be0>"
      ]
     },
     "metadata": {},
     "output_type": "display_data"
    }
   ],
   "source": [
    "n_groups = 6\n",
    "clf_yes, clf_no = [0.17, 0.19, 0.21], [0.99, 0.99, 0.99]\n",
    "fig, ax = plt.subplots()\n",
    "\n",
    "index = np.arange(n_groups)\n",
    "bar_width = 0.35\n",
    "dt_yes = plt.bar(index[0] + bar_width, clf_yes[0], bar_width, color='g', label='Yes')\n",
    "dt_no = plt.bar(index[3] + bar_width, clf_no[0], bar_width, color='r', label='No')\n",
    "\n",
    "rf_yes = plt.bar(index[1] + bar_width, clf_yes[1], bar_width, color='g', label='Yes')\n",
    "rf_no = plt.bar(index[4] + bar_width, clf_no[1], bar_width, color='r', label='No')\n",
    "\n",
    "mlp_yes = plt.bar(index[2] + bar_width, clf_yes[2], bar_width, color='g', label='Yes')\n",
    "mlp_no = plt.bar(index[5] + bar_width, clf_no[2], bar_width, color='r', label='No')\n",
    "\n",
    "ax.set_ylabel('Recall')\n",
    "plt.xticks(index + bar_width, ('yes_dt', 'yes_rf', 'yes_mlp', 'no_dt', 'no_rf', 'no_mlp'))\n",
    "plt.show()"
   ]
  },
  {
   "cell_type": "code",
   "execution_count": 173,
   "metadata": {},
   "outputs": [
    {
     "data": {
      "image/png": "[encoded data removed]",
      "text/plain": [
       "<matplotlib.figure.Figure at 0x1a1f5b9048>"
      ]
     },
     "metadata": {},
     "output_type": "display_data"
    }
   ],
   "source": [
    "n_groups = 6\n",
    "clf_yes, clf_no = [0.28, 0.3, 0.32], [0.95, 0.95, 0.95]\n",
    "fig, ax = plt.subplots()\n",
    "\n",
    "index = np.arange(n_groups)\n",
    "bar_width = 0.35\n",
    "dt_yes = plt.bar(index[0] + bar_width, clf_yes[0], bar_width, color='g', label='Yes')\n",
    "dt_no = plt.bar(index[3] + bar_width, clf_no[0], bar_width, color='r', label='No')\n",
    "\n",
    "rf_yes = plt.bar(index[1] + bar_width, clf_yes[1], bar_width, color='g', label='Yes')\n",
    "rf_no = plt.bar(index[4] + bar_width, clf_no[1], bar_width, color='r', label='No')\n",
    "\n",
    "mlp_yes = plt.bar(index[2] + bar_width, clf_yes[2], bar_width, color='g', label='Yes')\n",
    "mlp_no = plt.bar(index[5] + bar_width, clf_no[2], bar_width, color='r', label='No')\n",
    "\n",
    "ax.set_ylabel('f1-score')\n",
    "plt.xticks(index + bar_width, ('yes_dt', 'yes_rf', 'yes_mlp', 'no_dt', 'no_rf', 'no_mlp'))\n",
    "plt.show()"
   ]
  },
  {
   "cell_type": "code",
   "execution_count": 175,
   "metadata": {},
   "outputs": [
    {
     "data": {
      "image/png": "[encoded data removed]",
      "text/plain": [
       "<matplotlib.figure.Figure at 0x1a1f4f9978>"
      ]
     },
     "metadata": {},
     "output_type": "display_data"
    }
   ],
   "source": [
    "n_groups = 3\n",
    "clf_accuracy = [(1202+26)/(1210+150), (1202+28)/(1210+150), (1194+32)/(1210+150)]\n",
    "fig, ax = plt.subplots()\n",
    "\n",
    "index = np.arange(n_groups)\n",
    "bar_width = 0.35\n",
    "dt_yes = plt.bar(index[0] + bar_width, clf_accuracy[0], bar_width, color='g', label='Yes')\n",
    "\n",
    "rf_yes = plt.bar(index[1] + bar_width, clf_accuracy[1], bar_width, color='g', label='Yes')\n",
    "\n",
    "mlp_yes = plt.bar(index[2] + bar_width, clf_accuracy[2], bar_width, color='g', label='Yes')\n",
    "\n",
    "ax.set_ylabel('Overall accuracy')\n",
    "plt.xticks(index + bar_width, ('dt', 'rf', 'mlp'))\n",
    "plt.show()"
   ]
  },
  {
   "cell_type": "markdown",
   "metadata": {},
   "source": [
    "Intuitively, there is no big difference when comparing the overall prediction accuracies of the three models being used. However, obviously for all three models, the classification recall scores and f1-scores for class \"no\" is extremely higher than the classification accuracy for class \"yes\". This kind of discrepancy is reduced when considering precision score as criteria."
   ]
  },
  {
   "cell_type": "markdown",
   "metadata": {},
   "source": [
    "## Q6"
   ]
  },
  {
   "cell_type": "markdown",
   "metadata": {},
   "source": [
    "From the confusion matrix, we can tell how many datapoints we get the correct predictions with respect to their actual class labels, as well as how many datapoints our models get predicted wrong given the labels. This can also be interpreted from the \"recall\" column in the classification reports. As already been discussed in Q5, all the three models work better in predicting the \"no\" class, but perform badly in predicting the \"yes\" class. If we take a look at the precision score, the discrepancy between the \"yes\" and \"no\" classes becomes much lower compared to using the recall score. In terms of the f1-score, it gives us a comprehensive evaluation combining precision and recall, still, discrepancy between \"yes\" and \"no\" classes is obvious, implying the intrinsic inbalance in the original dataset. "
   ]
  },
  {
   "cell_type": "markdown",
   "metadata": {},
   "source": [
    "To compare, in terms of the actual \"no\" class, there is no big difference in the performances of the three models. When talking about predicting the actual \"yes\" class, the MLP classifier(NNs) gives the best output, and random forest is slightly better than decision tree classifier. The reason may be that random forests is more robust compared to decision tree, using more treats generally will improve accuracy and reduce variance. When it comes to ANNs, it can better learn the hidden relationships in the data and rarely has restrictions on the input variables."
   ]
  },
  {
   "attachments": {
    "image.png": {
     "image/png": "[encoded data removed]"
    }
   },
   "cell_type": "markdown",
   "metadata": {},
   "source": [
    "![image.png](attachment:image.png)"
   ]
  },
  {
   "attachments": {
    "image.png": {
     "image/png": "[encoded data removed]"
    }
   },
   "cell_type": "markdown",
   "metadata": {},
   "source": [
    "![image.png](attachment:image.png)"
   ]
  },
  {
   "cell_type": "markdown",
   "metadata": {},
   "source": [
    "The previous hw5 implementation of kNN and SVM classifiers on numeric features only give us the classification outputs as shown above. The overall accuracy does not differ too much from what we get from decision tree, random forests and neural networks. However, considering the precision score, kNN's and SVM's are lower for \"yes\" class, speaking about recall score, kNN's and SVM's are higher than dt, rf and mlp. The reason may be when we taking the categorial features into account, more information are provided, but it can not be guaranteed that the performance will be better. Depending on the correaltions between features and preditor variable, whether or not it is redundent, the performance will differ. And it is better for us to use effective feature selection and extraction process before applying the classification algorithms."
   ]
  },
  {
   "cell_type": "markdown",
   "metadata": {},
   "source": [
    "## Q7"
   ]
  },
  {
   "cell_type": "code",
   "execution_count": 96,
   "metadata": {
    "collapsed": true
   },
   "outputs": [],
   "source": [
    "df_all = pd.concat([df,y], axis = 1)\n",
    "df_0 = df_all.loc[df_all[\"y\"] == 0]\n",
    "df_1 = df_all.loc[df_all[\"y\"] == 1]\n",
    "df_0_sub = df_0.sample(frac = 0.15)\n",
    "df_new = pd.concat([df_0_sub, df_1], axis = 0)"
   ]
  },
  {
   "cell_type": "code",
   "execution_count": 97,
   "metadata": {
    "collapsed": true
   },
   "outputs": [],
   "source": [
    "y_new = df_new[\"y\"]\n",
    "df_new.drop(\"y\", inplace=True, axis=1)\n",
    "scaler = StandardScaler(with_mean=True, with_std=True)\n",
    "df_norm_new=scaler.fit_transform(df_new)"
   ]
  },
  {
   "cell_type": "code",
   "execution_count": 98,
   "metadata": {
    "collapsed": true
   },
   "outputs": [],
   "source": [
    "X_train_new, X_test_new, y_train_new, y_test_new = train_test_split(df_norm_new, y_new, test_size=0.33, random_state=42)"
   ]
  },
  {
   "cell_type": "code",
   "execution_count": 99,
   "metadata": {
    "collapsed": true
   },
   "outputs": [],
   "source": [
    "clf_rf_new = RandomForestClassifier(n_jobs=2, random_state=0, n_estimators=5, max_depth=4)\n",
    "clf_rf_new.fit(X_train_new, y_train_new)\n",
    "y_pred_new = clf_rf_new.predict(X_test_new)"
   ]
  },
  {
   "cell_type": "code",
   "execution_count": 100,
   "metadata": {},
   "outputs": [
    {
     "data": {
      "text/plain": [
       "array([[161,  26],\n",
       "       [ 58,  86]])"
      ]
     },
     "execution_count": 100,
     "metadata": {},
     "output_type": "execute_result"
    }
   ],
   "source": [
    "cnf_matrix = confusion_matrix(y_test_new, y_pred_new)\n",
    "cnf_matrix"
   ]
  },
  {
   "cell_type": "code",
   "execution_count": 101,
   "metadata": {},
   "outputs": [
    {
     "name": "stdout",
     "output_type": "stream",
     "text": [
      "             precision    recall  f1-score   support\n",
      "\n",
      "         no       0.74      0.86      0.79       187\n",
      "        yes       0.77      0.60      0.67       144\n",
      "\n",
      "avg / total       0.75      0.75      0.74       331\n",
      "\n"
     ]
    }
   ],
   "source": [
    "print(classification_report(y_test_new, y_pred_new, target_names=['no', 'yes']))"
   ]
  },
  {
   "cell_type": "markdown",
   "metadata": {},
   "source": [
    "Looking into the distribution of the classes, there are over 3600 observations with label 0 and only less than 500 entries with label 1, indicating strong imbalance. We randomly select 15% of the entries with label 0 and combine them with all the entries with label 1. Then, we conduct the classification using random forest classifier with the same parameters in above questions. The confusion matrix and report are shown above. We can see the classification discrepancy between two classes is mitigated. The \"recall\" score of \"no\" class increases from 0.17 to 0.6, for \"yes\" class, it decreases a little."
   ]
  },
  {
   "cell_type": "markdown",
   "metadata": {},
   "source": [
    "# Part 2"
   ]
  },
  {
   "cell_type": "markdown",
   "metadata": {},
   "source": [
    "## Q1"
   ]
  },
  {
   "cell_type": "code",
   "execution_count": 1,
   "metadata": {
    "scrolled": true
   },
   "outputs": [
    {
     "name": "stdout",
     "output_type": "stream",
     "text": [
      "[[1 2 1 ..., 2 2 1]\n",
      " [3 3 4 ..., 1 3 4]\n",
      " [4 1 4 ..., 2 4 4]\n",
      " ..., \n",
      " [3 4 4 ..., 3 1 2]\n",
      " [1 4 3 ..., 4 3 4]\n",
      " [4 3 1 ..., 2 4 3]]\n",
      "[1 1 1 ..., 1 1 1]\n"
     ]
    }
   ],
   "source": [
    "import numpy as np\n",
    "import scipy.io as sio\n",
    "df = sio.loadmat('DataDNA.mat')\n",
    "X = df['fea']\n",
    "y = df['gnd']\n",
    "y = np.asarray([j for i in y for j in i])\n",
    "print(X)\n",
    "print(y)"
   ]
  },
  {
   "cell_type": "code",
   "execution_count": 2,
   "metadata": {
    "scrolled": true
   },
   "outputs": [
    {
     "name": "stdout",
     "output_type": "stream",
     "text": [
      "[[-1.35289759 -0.48747864 -1.37244139 ..., -0.4584159  -0.41756618\n",
      "  -1.39224875]\n",
      " [ 0.45920268  0.43308188  1.36002111 ..., -1.37441497  0.49741947\n",
      "   1.36965138]\n",
      " [ 1.36525282 -1.40803915  1.36002111 ..., -0.4584159   1.41240513\n",
      "   1.36965138]\n",
      " ..., \n",
      " [ 0.45920268  1.35364239  1.36002111 ...,  0.45758317 -1.33255183\n",
      "  -0.47161537]\n",
      " [-1.35289759  1.35364239  0.44920027 ...,  1.37358225  0.49741947\n",
      "   1.36965138]\n",
      " [ 1.36525282  0.43308188 -1.37244139 ..., -0.4584159   1.41240513\n",
      "   0.44901801]]\n"
     ]
    },
    {
     "name": "stderr",
     "output_type": "stream",
     "text": [
      "/Users/mac/anaconda3/lib/python3.6/site-packages/sklearn/utils/validation.py:475: DataConversionWarning: Data with input dtype uint8 was converted to float64 by StandardScaler.\n",
      "  warnings.warn(msg, DataConversionWarning)\n"
     ]
    }
   ],
   "source": [
    "# Preprocessing using Z-score normalization\n",
    "from sklearn.preprocessing import StandardScaler\n",
    "zscaler = StandardScaler()\n",
    "X_norm = zscaler.fit_transform(X)\n",
    "print(X_norm)"
   ]
  },
  {
   "cell_type": "markdown",
   "metadata": {},
   "source": [
    "### Z-score normalization vs Min-max normalization\n",
    "\n",
    "The algorithms that we choose to implement are kNN, SVM, Random forest and Simple Neural networks. For kNN algorithm, it relys on the distance between datapoints to do the classification, in this case, z-score normalization will make all features contribute equally. For SVM and neural networks, after the z-score normalization, some weights which depend on the final result in the algorithms will update faster. In addition, some algorithms assume that our data is centered at 0. For example, if we initialize the weights of a small multi-layer perceptron with tanh activation units to 0 or small random values centered around zero, z-score normalization will help to update the model weights equally. For random forest, we want to find direction to split the trees and features. Z-score normalization will make the features on the same scale. In this case, Z-score normalization is better than min-max normalization.\n",
    "\n",
    "### Why do you need normalization in general?\n",
    "\n",
    "Normalization makes training less sensitive to the scale of features and makes regularization behave differently for different scaling. It also keeps consistency for comparing results across models and makes optimization well-conditioned."
   ]
  },
  {
   "cell_type": "code",
   "execution_count": 3,
   "metadata": {
    "collapsed": true
   },
   "outputs": [],
   "source": [
    "#train_test split\n",
    "from sklearn.model_selection import train_test_split\n",
    "X_train, X_test, y_train, y_test = train_test_split(X_norm, y, test_size=0.33, random_state=42)"
   ]
  },
  {
   "cell_type": "markdown",
   "metadata": {},
   "source": [
    "### Justify why you would normally split the test and training set randomly\n",
    "\n",
    "Because selecting the test and train set randomly is meant to be an unbiased representation of our dataset. In this case, we can improve robustness, reduce the errors and unexpected effects of the models. "
   ]
  },
  {
   "cell_type": "code",
   "execution_count": 4,
   "metadata": {},
   "outputs": [
    {
     "name": "stdout",
     "output_type": "stream",
     "text": [
      "+1 counts:  1137\n",
      "-1 counts:  1063\n",
      "class 1 ratio(distribution): 0.5168181818181818\n",
      "class -1 ratio(distribution): 0.48318181818181816\n"
     ]
    }
   ],
   "source": [
    "#Distribution of the +1, -1 classes\n",
    "count_pos_1 = 0\n",
    "count_neg_1 = 0\n",
    "for i in y:\n",
    "    if i == 1:\n",
    "        count_pos_1 = count_pos_1 + 1\n",
    "    if i == -1:\n",
    "        count_neg_1 = count_neg_1 + 1\n",
    "print(\"+1 counts: \", count_pos_1)\n",
    "print(\"-1 counts: \", count_neg_1)\n",
    "ratio_pos_1 = count_pos_1*1.0/(count_pos_1 + count_neg_1)\n",
    "ratio_neg_1 = count_neg_1*1.0/(count_pos_1 + count_neg_1)\n",
    "print(\"class 1 ratio(distribution):\" , ratio_pos_1)\n",
    "print(\"class -1 ratio(distribution):\" , ratio_neg_1)"
   ]
  },
  {
   "cell_type": "markdown",
   "metadata": {},
   "source": [
    "### Distribution of +1 , -1 classes\n",
    "\n",
    "With respect to the above ratios, the distributions of the +1 and -1 classes is almost uniform. The ratios are both around 0.5."
   ]
  },
  {
   "cell_type": "markdown",
   "metadata": {},
   "source": [
    "## Q2"
   ]
  },
  {
   "cell_type": "markdown",
   "metadata": {},
   "source": [
    "### a"
   ]
  },
  {
   "cell_type": "code",
   "execution_count": 5,
   "metadata": {
    "collapsed": true
   },
   "outputs": [],
   "source": [
    "from sklearn.neighbors import KNeighborsClassifier\n",
    "from sklearn.model_selection import cross_val_score\n",
    "import matplotlib.pyplot as plt\n",
    "\n",
    "knn_param = []\n",
    "accuracy = []\n",
    "i = 1\n",
    "max_k = 0\n",
    "max_score = 0\n",
    "while i <= 31:\n",
    "    knn_param.append(i)\n",
    "    clf_knn = KNeighborsClassifier(n_neighbors = i)\n",
    "    scores = cross_val_score(clf_knn, X_train, y_train, cv = 5)\n",
    "    score = scores.mean()\n",
    "    accuracy.append(score)\n",
    "    i = i + 2\n",
    "    if score > max_score:\n",
    "        max_score = score\n",
    "        max_k = i"
   ]
  },
  {
   "cell_type": "code",
   "execution_count": 6,
   "metadata": {
    "scrolled": false
   },
   "outputs": [
    {
     "data": {
      "image/png": "[encoded data removed]",
      "text/plain": [
       "<matplotlib.figure.Figure at 0x1a0855a9b0>"
      ]
     },
     "metadata": {},
     "output_type": "display_data"
    },
    {
     "name": "stdout",
     "output_type": "stream",
     "text": [
      "max score:  0.744210769053 when k =  17\n"
     ]
    }
   ],
   "source": [
    "plt.figure('k_param vs accuracy')\n",
    "plt.title('The relationship between the accuracy and the parameter k.')\n",
    "plt.plot(knn_param, accuracy)\n",
    "plt.xlabel(\"kNN parameter\")\n",
    "plt.ylabel(\"accuracy\")\n",
    "plt.xlim((0,33))\n",
    "plt.show()\n",
    "print(\"max score: \", max_score, \"when k = \", max_k)"
   ]
  },
  {
   "cell_type": "markdown",
   "metadata": {},
   "source": [
    "### Report the best k in terms of classification accuracy\n",
    "\n",
    "Best k = 17. the best score is shown in the above figure.\n",
    "\n",
    "### Explain why you didn’t evaluate directly on the test set:\n",
    "\n",
    "For the model evaluation, we would like to select the model which gives us the best classification accuracy in terms of the brand new unseen test set. So if we directly use the test set during the parameter selection period, it is somehow equivalent to using the test set to train the model, the model we get eventually may perform badly on brand new test set, which is not ideal at all."
   ]
  },
  {
   "cell_type": "markdown",
   "metadata": {},
   "source": [
    "### b"
   ]
  },
  {
   "cell_type": "code",
   "execution_count": 35,
   "metadata": {},
   "outputs": [
    {
     "name": "stdout",
     "output_type": "stream",
     "text": [
      "max_c:  20 max_gamma:  0.005 max_sigma:  10.0\n"
     ]
    }
   ],
   "source": [
    "import matplotlib.pyplot as plt\n",
    "from sklearn.metrics import roc_curve, auc\n",
    "from sklearn.preprocessing import label_binarize\n",
    "from sklearn.model_selection import cross_val_score\n",
    "from sklearn.svm import SVC\n",
    "\n",
    "# RBF SVM\n",
    "max_score = 0\n",
    "c = [0.1, 0.5, 1, 2, 5, 10, 20, 50]\n",
    "sigma = [0.01, 0.05, 0.1, 0.5, 1, 2, 5, 10]\n",
    "gamma = []\n",
    "for num in sigma:\n",
    "    gamma.append(1/(2*num*num))\n",
    "for i in c:\n",
    "    for j in gamma:\n",
    "        clf_svm = SVC(C=i, kernel='rbf', gamma=j)\n",
    "        scores = cross_val_score(clf_svm, X_train, y_train, cv = 5)\n",
    "        score = scores.mean()\n",
    "        if score > max_score:\n",
    "            max_score = score\n",
    "            max_c = i\n",
    "            max_gamma = j\n",
    "            max_sigma = np.sqrt(1/(2*j))\n",
    "print(\"max_c: \", max_c, \"max_gamma: \", max_gamma, \"max_sigma: \", max_sigma)"
   ]
  },
  {
   "cell_type": "code",
   "execution_count": 42,
   "metadata": {
    "scrolled": true
   },
   "outputs": [
    {
     "data": {
      "image/png": "[encoded data removed]",
      "text/plain": [
       "<matplotlib.figure.Figure at 0x1a11be66d8>"
      ]
     },
     "metadata": {},
     "output_type": "display_data"
    }
   ],
   "source": [
    "# ROC plot\n",
    "best_clf_svm = SVC(C=20, kernel='rbf', gamma=0.005, probability=True)\n",
    "best_clf_svm.fit(X_train, y_train)\n",
    "probs = best_clf_svm.predict_proba(X_test)\n",
    "preds = probs[:, 1]\n",
    "fpr, tpr, threshold = roc_curve(y_test, preds)\n",
    "roc_auc = auc(fpr, tpr)\n",
    "\n",
    "plt.title('Receiver Operating Characteristic')\n",
    "plt.plot(fpr, tpr, 'b', label = 'AUC = %0.2f' % roc_auc)\n",
    "plt.legend(loc = 'lower right')\n",
    "plt.plot([0, 1], [0, 1],'r--')\n",
    "plt.xlim([0, 1])\n",
    "plt.ylim([0, 1])\n",
    "plt.ylabel('True Positive Rate')\n",
    "plt.xlabel('False Positive Rate')\n",
    "plt.show()"
   ]
  },
  {
   "cell_type": "markdown",
   "metadata": {},
   "source": [
    "### Best c and sigma in terms of classification accuracy\n",
    "\n",
    "c = 20, sigma = 10, gamma = 0.005\n",
    "ROC plot is the above figure."
   ]
  },
  {
   "cell_type": "markdown",
   "metadata": {},
   "source": [
    "Based on the iterations we did above, when c = 20 and gamma =0.005 (sigma = 10) , we can get the best result for the RBF SVM model according to the cross validation score. The ROC plot is based on the best result with the parameters of c and gamma."
   ]
  },
  {
   "cell_type": "markdown",
   "metadata": {},
   "source": [
    "## Q3"
   ]
  },
  {
   "cell_type": "markdown",
   "metadata": {},
   "source": [
    "### a"
   ]
  },
  {
   "cell_type": "code",
   "execution_count": 37,
   "metadata": {
    "scrolled": true
   },
   "outputs": [
    {
     "name": "stdout",
     "output_type": "stream",
     "text": [
      "kNN test score: 0.727272727273\n",
      "SVM test score: 0.870523415978\n",
      "RF test score: 0.932506887052\n",
      "MLP test score: 0.81129476584\n"
     ]
    },
    {
     "name": "stderr",
     "output_type": "stream",
     "text": [
      "/Users/mac/anaconda3/lib/python3.6/site-packages/sklearn/neural_network/multilayer_perceptron.py:564: ConvergenceWarning:\n",
      "\n",
      "Stochastic Optimizer: Maximum iterations (200) reached and the optimization hasn't converged yet.\n",
      "\n"
     ]
    }
   ],
   "source": [
    "from sklearn.neighbors import KNeighborsClassifier\n",
    "from sklearn.svm import SVC\n",
    "from sklearn.ensemble import RandomForestClassifier\n",
    "from sklearn.neural_network import MLPClassifier\n",
    "best_clf_knn = KNeighborsClassifier(n_neighbors= 17)\n",
    "best_clf_svm = SVC(C=20, kernel='rbf', gamma=0.005)\n",
    "default_clf_rf = RandomForestClassifier(min_samples_leaf=1)\n",
    "default_clf_mlp = MLPClassifier(activation = 'tanh', solver='sgd', hidden_layer_sizes=(10,))\n",
    "best_clf_knn.fit(X_train, y_train)\n",
    "best_clf_svm.fit(X_train, y_train)\n",
    "default_clf_rf.fit(X_train, y_train)\n",
    "default_clf_mlp.fit(X_train, y_train)\n",
    "\n",
    "print(\"kNN test score:\",best_clf_knn.score(X_test, y_test))\n",
    "print(\"SVM test score:\",best_clf_svm.score(X_test, y_test))\n",
    "print(\"RF test score:\",default_clf_rf.score(X_test, y_test))\n",
    "print(\"MLP test score:\",default_clf_mlp.score(X_test, y_test))"
   ]
  },
  {
   "cell_type": "markdown",
   "metadata": {},
   "source": [
    "### kNN, SVM, default rf, default mlp\n",
    "\n",
    "In this case, we have 4 models. kNN with k = 17, SVM with c = 20, sigma = 10 and a default random forest model and a default MLP model."
   ]
  },
  {
   "cell_type": "markdown",
   "metadata": {},
   "source": [
    "### b"
   ]
  },
  {
   "cell_type": "code",
   "execution_count": 29,
   "metadata": {},
   "outputs": [
    {
     "name": "stdout",
     "output_type": "stream",
     "text": [
      "tree nums:  18 tree depth:  6 score:  0.957938429609\n"
     ]
    }
   ],
   "source": [
    "### RF model selection\n",
    "max_score = 0\n",
    "for j in range(1, 20):\n",
    "    for i in range(1, 20):\n",
    "        clf_rf = RandomForestClassifier(n_jobs=2, random_state=0, n_estimators=j, max_depth=i)\n",
    "        scores = cross_val_score(clf_rf, X_train, y_train, cv = 5)\n",
    "        score = scores.mean(0)\n",
    "        if score > max_score:\n",
    "            max_score = score\n",
    "            max_i = i\n",
    "            max_j = j\n",
    "\n",
    "print(\"tree nums: \", max_j, \"tree depth: \", max_i, \"score: \", max_score)"
   ]
  },
  {
   "cell_type": "markdown",
   "metadata": {},
   "source": [
    "### Best random forest model selection\n",
    "\n",
    "According to the code above, we use a nested for loop to change the n_estimators(number of trees) and max_depth(depth of the trees) and compared the accuracy results. In this case, optimal number of trees is 18, optimal maximun tree depth is 6."
   ]
  },
  {
   "cell_type": "code",
   "execution_count": 21,
   "metadata": {},
   "outputs": [
    {
     "name": "stdout",
     "output_type": "stream",
     "text": [
      "MLPClassifier(activation='tanh', alpha=0.0001, batch_size='auto', beta_1=0.9,\n",
      "       beta_2=0.999, early_stopping=False, epsilon=1e-08,\n",
      "       hidden_layer_sizes=(4, 7), learning_rate='constant',\n",
      "       learning_rate_init=0.001, max_iter=200, momentum=0.9,\n",
      "       nesterovs_momentum=True, power_t=0.5, random_state=0, shuffle=True,\n",
      "       solver='lbfgs', tol=0.0001, validation_fraction=0.1, verbose=False,\n",
      "       warm_start=False)\n",
      "4 7 score:  0.844635074369\n"
     ]
    }
   ],
   "source": [
    "### MLP model selection\n",
    "max_score = 0\n",
    "for i in range(1,20):\n",
    "    for j in range(1, 20):\n",
    "        clf_mlp = MLPClassifier(solver='lbfgs', hidden_layer_sizes=(i, j), random_state=0,activation='tanh')\n",
    "        scores = cross_val_score(clf_mlp, X_train, y_train, cv = 5)\n",
    "        score = scores.mean()\n",
    "        if score > max_score:\n",
    "            max_score = score\n",
    "            max_i = i\n",
    "            max_j = j\n",
    "            best_clf_mlp = clf_mlp\n",
    "print(best_clf_mlp)\n",
    "print(max_i, max_j, \"score: \", max_score)"
   ]
  },
  {
   "cell_type": "markdown",
   "metadata": {},
   "source": [
    "### Best MLP model selection\n",
    "\n",
    "According to the above code, the nested loop has been used to determine the best MLP model.\n",
    "In this case, the solver is \"lbfgs\", the hidden layer size is 2 with 4 nodes in the first hidden layer and 7 in the second."
   ]
  },
  {
   "cell_type": "markdown",
   "metadata": {},
   "source": [
    "### c"
   ]
  },
  {
   "cell_type": "code",
   "execution_count": 38,
   "metadata": {
    "collapsed": true
   },
   "outputs": [],
   "source": [
    "### contribute model\n",
    "best_clf_rf = RandomForestClassifier(random_state=0, n_estimators=18, max_depth=6)\n",
    "\n",
    "bes_clf_mlp = MLPClassifier(activation = 'tanh',solver='lbfgs', hidden_layer_sizes=(4,7))\n",
    "\n",
    "best_clf_knn = KNeighborsClassifier(n_neighbors= 17)\n",
    "\n",
    "best_clf_svm = SVC(C=20, kernel='rbf', gamma=0.005)\n",
    "\n",
    "default_clf_rf = RandomForestClassifier(min_samples_leaf=1)\n",
    "\n",
    "default_clf_mlp = MLPClassifier(activation = 'tanh',solver='sgd', hidden_layer_sizes=(10,))"
   ]
  },
  {
   "cell_type": "code",
   "execution_count": 39,
   "metadata": {
    "collapsed": true
   },
   "outputs": [],
   "source": [
    "train_time_knn=[]\n",
    "train_time_svm=[]\n",
    "train_time_best_rf=[]\n",
    "train_time_best_mlp=[]\n",
    "train_time_default_rf=[]\n",
    "train_time_default_mlp=[]\n",
    "\n",
    "classification_time_knn=[]\n",
    "classification_time_svm=[]\n",
    "classification_time_best_rf=[]\n",
    "classification_time_best_mlp=[]\n",
    "classification_time_default_rf=[]\n",
    "classification_time_default_mlp=[]\n",
    "\n",
    "knn_acu = []\n",
    "svm_acu = []\n",
    "best_rf_acu = []\n",
    "best_mlp_acu = []\n",
    "default_rf_acu = []\n",
    "default_mlp_acu = []\n",
    "\n",
    "knn_pre = []\n",
    "svm_pre = []\n",
    "best_rf_pre = []\n",
    "best_mlp_pre = []\n",
    "default_rf_pre = []\n",
    "default_mlp_pre = []\n",
    "\n",
    "knn_rec = []\n",
    "svm_rec = []\n",
    "best_rf_rec = []\n",
    "best_mlp_rec = []\n",
    "default_rf_rec = []\n",
    "default_mlp_rec = []\n",
    "\n",
    "knn_f1 = []\n",
    "svm_f1 = []\n",
    "best_rf_f1 = []\n",
    "best_mlp_f1 = []\n",
    "default_rf_f1 = []\n",
    "default_mlp_f1 = []"
   ]
  },
  {
   "cell_type": "code",
   "execution_count": 40,
   "metadata": {
    "scrolled": true
   },
   "outputs": [
    {
     "name": "stderr",
     "output_type": "stream",
     "text": [
      "/Users/mac/anaconda3/lib/python3.6/site-packages/sklearn/neural_network/multilayer_perceptron.py:564: ConvergenceWarning:\n",
      "\n",
      "Stochastic Optimizer: Maximum iterations (200) reached and the optimization hasn't converged yet.\n",
      "\n",
      "/Users/mac/anaconda3/lib/python3.6/site-packages/sklearn/neural_network/multilayer_perceptron.py:564: ConvergenceWarning:\n",
      "\n",
      "Stochastic Optimizer: Maximum iterations (200) reached and the optimization hasn't converged yet.\n",
      "\n",
      "/Users/mac/anaconda3/lib/python3.6/site-packages/sklearn/neural_network/multilayer_perceptron.py:564: ConvergenceWarning:\n",
      "\n",
      "Stochastic Optimizer: Maximum iterations (200) reached and the optimization hasn't converged yet.\n",
      "\n",
      "/Users/mac/anaconda3/lib/python3.6/site-packages/sklearn/neural_network/multilayer_perceptron.py:564: ConvergenceWarning:\n",
      "\n",
      "Stochastic Optimizer: Maximum iterations (200) reached and the optimization hasn't converged yet.\n",
      "\n",
      "/Users/mac/anaconda3/lib/python3.6/site-packages/sklearn/neural_network/multilayer_perceptron.py:564: ConvergenceWarning:\n",
      "\n",
      "Stochastic Optimizer: Maximum iterations (200) reached and the optimization hasn't converged yet.\n",
      "\n",
      "/Users/mac/anaconda3/lib/python3.6/site-packages/sklearn/neural_network/multilayer_perceptron.py:564: ConvergenceWarning:\n",
      "\n",
      "Stochastic Optimizer: Maximum iterations (200) reached and the optimization hasn't converged yet.\n",
      "\n",
      "/Users/mac/anaconda3/lib/python3.6/site-packages/sklearn/neural_network/multilayer_perceptron.py:564: ConvergenceWarning:\n",
      "\n",
      "Stochastic Optimizer: Maximum iterations (200) reached and the optimization hasn't converged yet.\n",
      "\n",
      "/Users/mac/anaconda3/lib/python3.6/site-packages/sklearn/neural_network/multilayer_perceptron.py:564: ConvergenceWarning:\n",
      "\n",
      "Stochastic Optimizer: Maximum iterations (200) reached and the optimization hasn't converged yet.\n",
      "\n",
      "/Users/mac/anaconda3/lib/python3.6/site-packages/sklearn/neural_network/multilayer_perceptron.py:564: ConvergenceWarning:\n",
      "\n",
      "Stochastic Optimizer: Maximum iterations (200) reached and the optimization hasn't converged yet.\n",
      "\n",
      "/Users/mac/anaconda3/lib/python3.6/site-packages/sklearn/neural_network/multilayer_perceptron.py:564: ConvergenceWarning:\n",
      "\n",
      "Stochastic Optimizer: Maximum iterations (200) reached and the optimization hasn't converged yet.\n",
      "\n",
      "/Users/mac/anaconda3/lib/python3.6/site-packages/sklearn/neural_network/multilayer_perceptron.py:564: ConvergenceWarning:\n",
      "\n",
      "Stochastic Optimizer: Maximum iterations (200) reached and the optimization hasn't converged yet.\n",
      "\n",
      "/Users/mac/anaconda3/lib/python3.6/site-packages/sklearn/neural_network/multilayer_perceptron.py:564: ConvergenceWarning:\n",
      "\n",
      "Stochastic Optimizer: Maximum iterations (200) reached and the optimization hasn't converged yet.\n",
      "\n",
      "/Users/mac/anaconda3/lib/python3.6/site-packages/sklearn/neural_network/multilayer_perceptron.py:564: ConvergenceWarning:\n",
      "\n",
      "Stochastic Optimizer: Maximum iterations (200) reached and the optimization hasn't converged yet.\n",
      "\n",
      "/Users/mac/anaconda3/lib/python3.6/site-packages/sklearn/neural_network/multilayer_perceptron.py:564: ConvergenceWarning:\n",
      "\n",
      "Stochastic Optimizer: Maximum iterations (200) reached and the optimization hasn't converged yet.\n",
      "\n",
      "/Users/mac/anaconda3/lib/python3.6/site-packages/sklearn/neural_network/multilayer_perceptron.py:564: ConvergenceWarning:\n",
      "\n",
      "Stochastic Optimizer: Maximum iterations (200) reached and the optimization hasn't converged yet.\n",
      "\n",
      "/Users/mac/anaconda3/lib/python3.6/site-packages/sklearn/neural_network/multilayer_perceptron.py:564: ConvergenceWarning:\n",
      "\n",
      "Stochastic Optimizer: Maximum iterations (200) reached and the optimization hasn't converged yet.\n",
      "\n",
      "/Users/mac/anaconda3/lib/python3.6/site-packages/sklearn/neural_network/multilayer_perceptron.py:564: ConvergenceWarning:\n",
      "\n",
      "Stochastic Optimizer: Maximum iterations (200) reached and the optimization hasn't converged yet.\n",
      "\n",
      "/Users/mac/anaconda3/lib/python3.6/site-packages/sklearn/neural_network/multilayer_perceptron.py:564: ConvergenceWarning:\n",
      "\n",
      "Stochastic Optimizer: Maximum iterations (200) reached and the optimization hasn't converged yet.\n",
      "\n",
      "/Users/mac/anaconda3/lib/python3.6/site-packages/sklearn/neural_network/multilayer_perceptron.py:564: ConvergenceWarning:\n",
      "\n",
      "Stochastic Optimizer: Maximum iterations (200) reached and the optimization hasn't converged yet.\n",
      "\n",
      "/Users/mac/anaconda3/lib/python3.6/site-packages/sklearn/neural_network/multilayer_perceptron.py:564: ConvergenceWarning:\n",
      "\n",
      "Stochastic Optimizer: Maximum iterations (200) reached and the optimization hasn't converged yet.\n",
      "\n"
     ]
    }
   ],
   "source": [
    "import timeit\n",
    "import numpy as np\n",
    "from random import randint\n",
    "from sklearn.metrics import accuracy_score, precision_score,recall_score,f1_score\n",
    "from sklearn.model_selection import train_test_split\n",
    "\n",
    "for i in range(20):\n",
    "    state = randint(0, 99)\n",
    "    X_train, X_test, y_train, y_test = train_test_split(X_norm, y, test_size=0.33, random_state= state)\n",
    "    \n",
    "    ### knn\n",
    "    start = timeit.default_timer()\n",
    "    best_clf_knn.fit(X_train, y_train)\n",
    "    stop = timeit.default_timer()\n",
    "    train_time_knn.append(stop - start)\n",
    "    \n",
    "    start = timeit.default_timer()\n",
    "    knn_pred = best_clf_knn.predict(X_test)\n",
    "    stop = timeit.default_timer()\n",
    "    classification_time_knn.append(stop - start)\n",
    "\n",
    "    score = accuracy_score(y_test, knn_pred)\n",
    "    knn_acu.append(score)\n",
    "    \n",
    "    pre = precision_score(y_test, knn_pred)\n",
    "    knn_pre.append(pre)\n",
    "    \n",
    "    rec = recall_score(y_test, knn_pred)\n",
    "    knn_rec.append(rec)\n",
    "    \n",
    "    f1 = f1_score(y_test, knn_pred)\n",
    "    knn_f1.append(f1)\n",
    "    \n",
    "    \n",
    "    ### svm\n",
    "    \n",
    "    start = timeit.default_timer()\n",
    "    best_clf_svm.fit(X_train, y_train)\n",
    "    stop = timeit.default_timer()\n",
    "    train_time_svm.append(stop - start)\n",
    "    \n",
    "    start = timeit.default_timer()\n",
    "    svm_pred = best_clf_svm.predict(X_test)\n",
    "    stop = timeit.default_timer()\n",
    "    classification_time_svm.append(stop - start)\n",
    "    \n",
    "    score = accuracy_score(y_test, svm_pred)\n",
    "    svm_acu.append(score)\n",
    "    \n",
    "    pre = precision_score(y_test, svm_pred)\n",
    "    svm_pre.append(pre)\n",
    "    \n",
    "    rec = recall_score(y_test, svm_pred)\n",
    "    svm_rec.append(rec)\n",
    "    \n",
    "    f1 = f1_score(y_test, svm_pred)\n",
    "    svm_f1.append(f1)\n",
    "    \n",
    "    \n",
    "    ### best rf\n",
    "    \n",
    "    start = timeit.default_timer()\n",
    "    best_clf_rf.fit(X_train, y_train)\n",
    "    stop = timeit.default_timer()\n",
    "    train_time_best_rf.append(stop - start)\n",
    "    \n",
    "    start = timeit.default_timer()\n",
    "    best_rf_pred = best_clf_rf.predict(X_test)\n",
    "    stop = timeit.default_timer()\n",
    "    classification_time_best_rf.append(stop - start)\n",
    "    \n",
    "    score = accuracy_score(y_test, best_rf_pred)\n",
    "    best_rf_acu.append(score)\n",
    "    \n",
    "    pre = precision_score(y_test, best_rf_pred)\n",
    "    best_rf_pre.append(pre)\n",
    "    \n",
    "    rec = recall_score(y_test, best_rf_pred)\n",
    "    best_rf_rec.append(rec)\n",
    "    \n",
    "    f1 = f1_score(y_test, best_rf_pred)\n",
    "    best_rf_f1.append(f1)\n",
    "    \n",
    "    \n",
    "    ## best mlp\n",
    "    \n",
    "    start = timeit.default_timer()\n",
    "    best_clf_mlp.fit(X_train, y_train)\n",
    "    stop = timeit.default_timer()\n",
    "    train_time_best_mlp.append(stop - start)\n",
    "    \n",
    "    start = timeit.default_timer()\n",
    "    best_mlp_pred = best_clf_mlp.predict(X_test)\n",
    "    stop = timeit.default_timer()\n",
    "    classification_time_best_mlp.append(stop - start)\n",
    "    \n",
    "    score = accuracy_score(y_test, best_mlp_pred)\n",
    "    best_mlp_acu.append(score)\n",
    "    \n",
    "    pre = precision_score(y_test, best_mlp_pred)\n",
    "    best_mlp_pre.append(pre)\n",
    "    \n",
    "    rec = recall_score(y_test, best_mlp_pred)\n",
    "    best_mlp_rec.append(rec)\n",
    "    \n",
    "    f1 = f1_score(y_test, best_mlp_pred)\n",
    "    best_mlp_f1.append(f1)\n",
    "    \n",
    "    ### default rf\n",
    "    \n",
    "    start = timeit.default_timer()\n",
    "    default_clf_rf.fit(X_train, y_train)\n",
    "    stop = timeit.default_timer()\n",
    "    train_time_default_rf.append(stop - start)\n",
    "    \n",
    "    start = timeit.default_timer()\n",
    "    default_rf_pred = default_clf_rf.predict(X_test)\n",
    "    stop = timeit.default_timer()\n",
    "    classification_time_default_rf.append(stop - start)\n",
    "    \n",
    "    score = accuracy_score(y_test, default_rf_pred)\n",
    "    default_rf_acu.append(score)\n",
    "    \n",
    "    pre = precision_score(y_test, default_rf_pred)\n",
    "    default_rf_pre.append(pre)\n",
    "    \n",
    "    rec = recall_score(y_test, default_rf_pred)\n",
    "    default_rf_rec.append(rec)\n",
    "    \n",
    "    f1 = f1_score(y_test, default_rf_pred)\n",
    "    default_rf_f1.append(f1)\n",
    "    \n",
    "    ### default mlp\n",
    "    \n",
    "    start = timeit.default_timer()\n",
    "    default_clf_mlp.fit(X_train, y_train)\n",
    "    stop = timeit.default_timer()\n",
    "    train_time_default_mlp.append(stop - start)\n",
    "    \n",
    "    start = timeit.default_timer()\n",
    "    default_mlp_pred = default_clf_mlp.predict(X_test)\n",
    "    stop = timeit.default_timer()\n",
    "    classification_time_default_mlp.append(stop - start)\n",
    "    \n",
    "    score = accuracy_score(y_test, default_mlp_pred)\n",
    "    default_mlp_acu.append(score)\n",
    "    \n",
    "    pre = precision_score(y_test, default_mlp_pred)\n",
    "    default_mlp_pre.append(pre)\n",
    "    \n",
    "    rec = recall_score(y_test, default_mlp_pred)\n",
    "    default_mlp_rec.append(rec)\n",
    "    \n",
    "    f1 = f1_score(y_test, default_mlp_pred)\n",
    "    default_mlp_f1.append(f1)"
   ]
  },
  {
   "cell_type": "code",
   "execution_count": 41,
   "metadata": {
    "scrolled": false
   },
   "outputs": [
    {
     "name": "stdout",
     "output_type": "stream",
     "text": [
      "High five! You successfully sent some data to your account on plotly. View your plot in your browser at https://plot.ly/~eeycl3/0 or inside your plot.ly account where it is named 'basic_table'\n"
     ]
    },
    {
     "data": {
      "text/html": [
       "<iframe id=\"igraph\" scrolling=\"no\" style=\"border:none;\" seamless=\"seamless\" src=\"https://plot.ly/~eeycl3/0.embed\" height=\"525px\" width=\"100%\"></iframe>"
      ],
      "text/plain": [
       "<plotly.tools.PlotlyDisplay object>"
      ]
     },
     "execution_count": 41,
     "metadata": {},
     "output_type": "execute_result"
    }
   ],
   "source": [
    "import numpy as np\n",
    "import plotly\n",
    "import plotly.plotly as py\n",
    "import plotly.graph_objs as go\n",
    "plotly.tools.set_credentials_file(username='eeycl3', api_key='IZLvlZlWFL95e0UX1E5c')\n",
    "\n",
    "value = [[np.mean(train_time_knn), np.mean(train_time_svm), np.mean(train_time_default_rf), np.mean(train_time_default_mlp), np.mean(train_time_best_rf), np.mean(train_time_best_mlp)],\n",
    "                       [np.mean(classification_time_knn), np.mean(classification_time_svm), np.mean(classification_time_default_rf), np.mean(classification_time_default_mlp), np.mean(classification_time_best_rf), np.mean(classification_time_best_mlp)],\n",
    "                       [np.mean(knn_acu), np.mean(svm_acu), np.mean(default_rf_acu), np.mean(default_mlp_acu), np.mean(best_rf_acu), np.mean(best_mlp_acu)],\n",
    "                       [np.std(knn_acu), np.std(svm_acu), np.std(default_rf_acu), np.std(default_mlp_acu), np.std(best_rf_acu), np.std(best_mlp_acu)],\n",
    "                       [np.mean(knn_pre), np.mean(svm_pre), np.mean(default_rf_pre), np.mean(default_mlp_pre), np.mean(best_rf_pre), np.mean(best_mlp_pre)],\n",
    "                       [np.std(knn_pre), np.std(svm_pre), np.std(default_rf_pre), np.std(default_mlp_pre), np.std(best_rf_pre), np.std(best_mlp_pre)],\n",
    "                       [np.mean(knn_rec),np.mean(svm_rec),np.mean(default_rf_rec),np.mean(default_mlp_rec),np.mean(best_rf_rec),np.mean(best_mlp_rec)],\n",
    "                       [np.std(knn_rec), np.std(svm_rec),np.std(default_rf_rec),np.std(default_mlp_rec),np.std(default_mlp_rec),np.std(best_mlp_rec)],\n",
    "                       [np.mean(knn_f1), np.mean(svm_f1), np.mean(default_rf_f1),np.mean(default_mlp_f1),np.mean(best_rf_f1),np.mean(best_mlp_f1)],\n",
    "                       [np.std(knn_f1),np.std(svm_f1),np.std(default_rf_f1), np.std(default_mlp_f1),np.std(best_rf_f1),np.std(best_mlp_f1)]\n",
    "                      ]\n",
    "tablevalue=[['kNN', 'SVM', 'default_RF', 'default_MLP', 'best_RF','best_MLP']]\n",
    "for array in value:\n",
    "    a = []\n",
    "    for i in array:\n",
    "        i = round(i, 6)\n",
    "        a.append(i)\n",
    "    tablevalue.append(a)\n",
    "\n",
    "trace = go.Table(\n",
    "    header=dict(values=['Algorithms','Training time_mean', 'Classification time_mean', \"Accuracy mean\", \"Accuracy std\", \"Precision mean\", \"Precision std\", \"Recall mean\", \"Recall std\", \"F measure mean\", \"F measure std\"],\n",
    "               align = ['left', 'center'],\n",
    "                   height = 40),\n",
    "    cells=dict(values=tablevalue,\n",
    "              align = ['left', 'center'])\n",
    ")\n",
    "\n",
    "data = [trace] \n",
    "py.iplot(data, filename = 'basic_table')"
   ]
  },
  {
   "attachments": {
    "image.png": {
     "image/png": "[encoded data removed]"
    }
   },
   "cell_type": "markdown",
   "metadata": {},
   "source": [
    "![image.png](attachment:image.png)"
   ]
  },
  {
   "cell_type": "markdown",
   "metadata": {},
   "source": [
    "The above table shows the results of the average and standard deviation of classification performance on the test set regarding: accuracy, precision, recall, and F- Measure and the mean training time and mean classification time of all the methods."
   ]
  },
  {
   "cell_type": "markdown",
   "metadata": {},
   "source": [
    "### Why repeating classification 20 times"
   ]
  },
  {
   "cell_type": "markdown",
   "metadata": {
    "collapsed": true
   },
   "source": [
    "Repeating 20 times helps us to verify the model objectively. For example, the model might fit perfectly to one of the specifc training sets and test sets and get a perfect result but not as similarly apply to other training set and test.In this case, we give the split function a random value to a random state to generate the training set and test set. In addition, we want to calculate the mean and standard deivation for the accuracy, recall, precision and f-measure value. 20 times helps us reduce the system error."
   ]
  },
  {
   "cell_type": "markdown",
   "metadata": {},
   "source": [
    "## Q4"
   ]
  },
  {
   "cell_type": "markdown",
   "metadata": {
    "collapsed": true
   },
   "source": [
    "Firstly, kNN algorithm, the training time is the smallest, but the classification time is the largest, the overall accuracy score is the lowest as well, although it has higher precision score. Due to the low value of recall and F-measure, it is inappropriate to use kNN on this kind of data. Compared to kNN, SVM has longer training time but less classification time, the accuracy score is significantly higher, coming to nearly 90%. In terms of random forest classfier, it has the best performance comprehensively. Under the default setting, the overall accuracy is more than 92%, after parameters optimizing, it came to nearly 95%, with little increase in the training time. When it comes to MLP classifier, it took the longest time to train the model because of large amount of parameters, however, the performance is not that good, accuracy scores remain at the level of 82%, which is worse than SVM and random forest classfier. With the analysis done here, we may firstly consider implementing random forest when dealing with this kind of dataset, and SVM is not a bad choice as well, but we may need to conduct feature selection and feature extraction before training the model since it will take longer time when using SVM classifier."
   ]
  },
  {
   "cell_type": "markdown",
   "metadata": {},
   "source": [
    "## Q5"
   ]
  },
  {
   "cell_type": "markdown",
   "metadata": {},
   "source": [
    "### If you had to remove 1 features from the dataset, which feature would you select to remove from the dataset and why?\n",
    "\n",
    "We can select the feature based on feature selection method. First, tree-based estimators can be used to compute feature importances. So we can select a feature with lowest importance and remove from the dataset. The code below shows how to remove the lowest important feature. We run the model 200 times to make sure to remove the lowest importance feature. The below code will show the proccess:"
   ]
  },
  {
   "cell_type": "code",
   "execution_count": 207,
   "metadata": {},
   "outputs": [
    {
     "name": "stdout",
     "output_type": "stream",
     "text": [
      "The feature we want to remove is feature 5\n"
     ]
    }
   ],
   "source": [
    "from sklearn import datasets\n",
    "from sklearn import metrics\n",
    "from sklearn.ensemble import ExtraTreesClassifier\n",
    "\n",
    "model = ExtraTreesClassifier()\n",
    "\n",
    "res = dict()\n",
    "for i in range(200):\n",
    "    model.fit(X, y)\n",
    "    l = model.feature_importances_\n",
    "    for j in range(len(l)):\n",
    "        if j in res.keys():\n",
    "            res[j] += l[j]\n",
    "        else:\n",
    "            res[j] = l[j]\n",
    "i_fea = sorted(res.items(), key=lambda res: res[1])[0][0]\n",
    "print(\"The feature we want to remove is feature\", i_fea)"
   ]
  },
  {
   "cell_type": "markdown",
   "metadata": {},
   "source": [
    "### What would have happened if you did classification on two dimensions only?"
   ]
  },
  {
   "cell_type": "markdown",
   "metadata": {
    "collapsed": true
   },
   "source": [
    "If the two dimensions are the most important two features and account for significant discriminating abilities, the classification result may not be bad. However, if they are not, most likely, the classification will output as underfitting, due to the lack of features information and discriminating abilities."
   ]
  },
  {
   "cell_type": "markdown",
   "metadata": {
    "collapsed": true
   },
   "source": [
    "# Reference"
   ]
  },
  {
   "cell_type": "markdown",
   "metadata": {},
   "source": [
    "https://www.datasciencecentral.com/profiles/blogs/introduction-to-classification-regression-trees-cart"
   ]
  },
  {
   "cell_type": "markdown",
   "metadata": {},
   "source": [
    "http://scikit-learn.org/stable/modules/ensemble.html"
   ]
  }
 ],
 "metadata": {
  "kernelspec": {
   "display_name": "Python 3",
   "language": "python",
   "name": "python3"
  },
  "language_info": {
   "codemirror_mode": {
    "name": "ipython",
    "version": 3
   },
   "file_extension": ".py",
   "mimetype": "text/x-python",
   "name": "python",
   "nbconvert_exporter": "python",
   "pygments_lexer": "ipython3",
   "version": "3.6.3"
  }
 },
 "nbformat": 4,
 "nbformat_minor": 2
}
